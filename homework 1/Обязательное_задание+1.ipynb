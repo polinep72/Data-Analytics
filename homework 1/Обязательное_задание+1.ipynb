{
  "nbformat": 4,
  "nbformat_minor": 0,
  "metadata": {
    "colab": {
      "provenance": []
    },
    "kernelspec": {
      "name": "python3",
      "display_name": "Python 3"
    },
    "language_info": {
      "name": "python"
    }
  },
  "cells": [
    {
      "cell_type": "markdown",
      "source": [
        "Обязательное задание+1\n"
      ],
      "metadata": {
        "id": "KRwYIjyeVNvp"
      }
    },
    {
      "cell_type": "markdown",
      "source": [
        "1) возведение в степень циклом"
      ],
      "metadata": {
        "id": "jVlCWhBOVafY"
      }
    },
    {
      "cell_type": "code",
      "source": [
        "N = int(input(\"Введите число: \"))\n",
        "x = int(input(\"Введите степень: \"))\n",
        "i = 0\n",
        "Z = 1\n",
        "print(\"Число:\", N, \"в степени:\", x)\n",
        "while (i != x):\n",
        "    Z = Z * N\n",
        "    i += 1\n",
        "print(\"Значение возведенного числа в степень:\", Z)"
      ],
      "metadata": {
        "colab": {
          "base_uri": "https://localhost:8080/"
        },
        "id": "CY214bYfVf2E",
        "outputId": "fdea20df-4a05-4ee8-b8c7-96d9ea3e7892"
      },
      "execution_count": 20,
      "outputs": [
        {
          "output_type": "stream",
          "name": "stdout",
          "text": [
            "Введите число: 2\n",
            "Введите степень: 2\n",
            "Число: 2 в степени: 2\n",
            "Значение возведенного числа в степень: 4\n"
          ]
        }
      ]
    },
    {
      "cell_type": "markdown",
      "source": [
        "2) простое число"
      ],
      "metadata": {
        "id": "FOmMYU4FVdY5"
      }
    },
    {
      "cell_type": "code",
      "source": [
        "    N = [3, 5, 7, 11, 13, 17]\n",
        "    for j in (N):\n",
        "      a = 0\n",
        "      for i in range(1, j + 1):\n",
        "          if j % i == 0:\n",
        "              a += 1\n",
        "      if a == 2:\n",
        "        print(\"Число: \", j, \"простое\")\n",
        "      else:\n",
        "        print(\"Число: \", j, \"не простое\")\n"
      ],
      "metadata": {
        "colab": {
          "base_uri": "https://localhost:8080/"
        },
        "id": "mBArMdObqNEg",
        "outputId": "9c056fdc-6b31-417f-bf3d-9a65a3450052"
      },
      "execution_count": 67,
      "outputs": [
        {
          "output_type": "stream",
          "name": "stdout",
          "text": [
            "Число:  3 простое\n",
            "Число:  5 простое\n",
            "Число:  7 простое\n",
            "Число:  11 простое\n",
            "Число:  13 простое\n",
            "Число:  17 простое\n"
          ]
        }
      ]
    }
  ]
}