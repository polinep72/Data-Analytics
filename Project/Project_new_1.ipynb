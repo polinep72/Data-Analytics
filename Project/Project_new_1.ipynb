{
  "nbformat": 4,
  "nbformat_minor": 0,
  "metadata": {
    "colab": {
      "provenance": []
    },
    "kernelspec": {
      "name": "python3",
      "display_name": "Python 3"
    },
    "language_info": {
      "name": "python"
    }
  },
  "cells": [
    {
      "cell_type": "markdown",
      "source": [
        "Итоговая работа должна отвечать следующим требованиям:\n",
        "\n",
        "\t1. Программа реализована на языке программирования Python.\n",
        "\t2. Выполнена загрузка и чтение данных из файлов.\n",
        "\t3. Выполнена предварительная обработка данных (очистка и форматирование данных).\n",
        "\t4. Выполнен разведочный анализ данных EDA.\n",
        "\t5. Определены важные признаки. Выполнен поиск взаимосвязей между признаками.\n",
        "\t6. Выполнено уменьшение размерности массива данных.\n",
        "\t7. Составлена гипотеза о данных и выполнена проверка соответствующей гипотезы.\n",
        "\n",
        "Аналитическая задача: построить модель для прогнозирования стоимости квартиры.\n",
        "\n",
        "Исходные данные: имеется выборка данных о продаже квартир.\n",
        "* *airports_nearest*\t\tрасстояние до ближайшего аэропорта в метрах (м)\n",
        "\n",
        "* ***balcony***\t\t\t\tчисло балконов\n",
        "* ***ceiling_height***\t\t\tвысота потолков (м)\n",
        "* ***cityCenters_nearest***\t\tрасстояние до центра города (м)\n",
        "* ***floor***\t\t\t\tэтаж\n",
        "* ***floors_total***\t\t\tвсего этажей в доме\n",
        "* ***is_apartment***\t\t\tапартаменты (булев тип)\n",
        "* ***kitchen_area***\t\t\tплощадь кухни в квадратных метрах (м²)\n",
        "* ***last_price***\t\t\tцена на момент снятия с публикации\n",
        "* ***living_area***\t\t\tжилая площадь в квадратных метрах(м²)\n",
        "* ***open_plan***\t\t\tсвободная планировка (булев тип)\n",
        "* ***parks_around3000***\t\tчисло парков в радиусе 3 км\n",
        "* ***parks_nearest***\t\t\tрасстояние до ближайшего парка (м)\n",
        "* ***ponds_around3000***\t\tчисло водоёмов в радиусе 3 км\n",
        "* ***ponds_nearest***\t\t\tрасстояние до ближайшего водоёма (м)\n",
        "* ***rooms***\t\t\t\tчисло комнат\n",
        "* ***studio***\t\t\t\tквартира-студия (булев тип)\n",
        "* ***total_area***\t\t\tплощадь квартиры в квадратных метрах (м²)"
      ],
      "metadata": {
        "id": "jlCfSEibm2yd"
      }
    },
    {
      "cell_type": "markdown",
      "source": [
        "**1. \tПрограмма реализована на языке программирования Python.**"
      ],
      "metadata": {
        "id": "cRGGiJImnLch"
      }
    },
    {
      "cell_type": "code",
      "source": [
        "!pip install https://github.com/pandas-profiling/pandas-profiling/archive/master.zip"
      ],
      "metadata": {
        "id": "UX5h_35cylkj"
      },
      "execution_count": null,
      "outputs": []
    },
    {
      "cell_type": "markdown",
      "source": [
        "Загружаем необходимые библиотеки и модули"
      ],
      "metadata": {
        "id": "UF1-EbXBpLjl"
      }
    },
    {
      "cell_type": "code",
      "execution_count": 398,
      "metadata": {
        "id": "RcBY2aTXchuP"
      },
      "outputs": [],
      "source": [
        "from pandas import *\n",
        "import seaborn as sb\n",
        "import numpy as np\n",
        "import matplotlib.pyplot as plt\n",
        "import plotly.express as px\n",
        "from pandas_profiling import ProfileReport\n",
        "from scipy import stats as st\n",
        "from matplotlib.cbook import boxplot_stats"
      ]
    },
    {
      "cell_type": "markdown",
      "source": [
        "**2. \tВыполненяем загрузку и чтение данных из файлов.**\n",
        "\n",
        "Загружаем Dataframe\n"
      ],
      "metadata": {
        "id": "JH-HhpyFnbmZ"
      }
    },
    {
      "cell_type": "code",
      "source": [
        "df = read_csv(\"/content/drive/MyDrive/data/home_price.csv\")"
      ],
      "metadata": {
        "id": "PmZ1dvtecjzy"
      },
      "execution_count": 399,
      "outputs": []
    },
    {
      "cell_type": "markdown",
      "source": [
        "**3. Выполняем предварительную обработку данных (очистка и форматирование данных).**"
      ],
      "metadata": {
        "id": "fmQAjvJCn0Cs"
      }
    },
    {
      "cell_type": "code",
      "source": [
        "df.head()"
      ],
      "metadata": {
        "id": "NJag0k11EkhY",
        "colab": {
          "base_uri": "https://localhost:8080/",
          "height": 226
        },
        "outputId": "8a2a4fe9-f166-4602-f73e-607167e0dd15"
      },
      "execution_count": 400,
      "outputs": [
        {
          "output_type": "execute_result",
          "data": {
            "text/plain": [
              "   last_price  total_area  rooms  ceiling_height  floors_total  living_area  \\\n",
              "0  13000000.0       108.0      3            2.70          16.0         51.0   \n",
              "1   3350000.0        40.4      1             NaN          11.0         18.6   \n",
              "2   5196000.0        56.0      2             NaN           5.0         34.3   \n",
              "3  64900000.0       159.0      3             NaN          14.0          NaN   \n",
              "4  10000000.0       100.0      2            3.03          14.0         32.0   \n",
              "\n",
              "   floor is_apartment  studio  open_plan  kitchen_area  balcony  \\\n",
              "0      8          NaN   False      False          25.0      NaN   \n",
              "1      1          NaN   False      False          11.0      2.0   \n",
              "2      4          NaN   False      False           8.3      0.0   \n",
              "3      9          NaN   False      False           NaN      0.0   \n",
              "4     13          NaN   False      False          41.0      NaN   \n",
              "\n",
              "   airports_nearest  cityCenters_nearest  parks_around3000  parks_nearest  \\\n",
              "0           18863.0              16028.0               1.0          482.0   \n",
              "1           12817.0              18603.0               0.0            NaN   \n",
              "2           21741.0              13933.0               1.0           90.0   \n",
              "3           28098.0               6800.0               2.0           84.0   \n",
              "4           31856.0               8098.0               2.0          112.0   \n",
              "\n",
              "   ponds_around3000  ponds_nearest  \n",
              "0               2.0          755.0  \n",
              "1               0.0            NaN  \n",
              "2               2.0          574.0  \n",
              "3               3.0          234.0  \n",
              "4               1.0           48.0  "
            ],
            "text/html": [
              "\n",
              "  <div id=\"df-f35efc02-ba93-49c0-863b-5c714275d760\" class=\"colab-df-container\">\n",
              "    <div>\n",
              "<style scoped>\n",
              "    .dataframe tbody tr th:only-of-type {\n",
              "        vertical-align: middle;\n",
              "    }\n",
              "\n",
              "    .dataframe tbody tr th {\n",
              "        vertical-align: top;\n",
              "    }\n",
              "\n",
              "    .dataframe thead th {\n",
              "        text-align: right;\n",
              "    }\n",
              "</style>\n",
              "<table border=\"1\" class=\"dataframe\">\n",
              "  <thead>\n",
              "    <tr style=\"text-align: right;\">\n",
              "      <th></th>\n",
              "      <th>last_price</th>\n",
              "      <th>total_area</th>\n",
              "      <th>rooms</th>\n",
              "      <th>ceiling_height</th>\n",
              "      <th>floors_total</th>\n",
              "      <th>living_area</th>\n",
              "      <th>floor</th>\n",
              "      <th>is_apartment</th>\n",
              "      <th>studio</th>\n",
              "      <th>open_plan</th>\n",
              "      <th>kitchen_area</th>\n",
              "      <th>balcony</th>\n",
              "      <th>airports_nearest</th>\n",
              "      <th>cityCenters_nearest</th>\n",
              "      <th>parks_around3000</th>\n",
              "      <th>parks_nearest</th>\n",
              "      <th>ponds_around3000</th>\n",
              "      <th>ponds_nearest</th>\n",
              "    </tr>\n",
              "  </thead>\n",
              "  <tbody>\n",
              "    <tr>\n",
              "      <th>0</th>\n",
              "      <td>13000000.0</td>\n",
              "      <td>108.0</td>\n",
              "      <td>3</td>\n",
              "      <td>2.70</td>\n",
              "      <td>16.0</td>\n",
              "      <td>51.0</td>\n",
              "      <td>8</td>\n",
              "      <td>NaN</td>\n",
              "      <td>False</td>\n",
              "      <td>False</td>\n",
              "      <td>25.0</td>\n",
              "      <td>NaN</td>\n",
              "      <td>18863.0</td>\n",
              "      <td>16028.0</td>\n",
              "      <td>1.0</td>\n",
              "      <td>482.0</td>\n",
              "      <td>2.0</td>\n",
              "      <td>755.0</td>\n",
              "    </tr>\n",
              "    <tr>\n",
              "      <th>1</th>\n",
              "      <td>3350000.0</td>\n",
              "      <td>40.4</td>\n",
              "      <td>1</td>\n",
              "      <td>NaN</td>\n",
              "      <td>11.0</td>\n",
              "      <td>18.6</td>\n",
              "      <td>1</td>\n",
              "      <td>NaN</td>\n",
              "      <td>False</td>\n",
              "      <td>False</td>\n",
              "      <td>11.0</td>\n",
              "      <td>2.0</td>\n",
              "      <td>12817.0</td>\n",
              "      <td>18603.0</td>\n",
              "      <td>0.0</td>\n",
              "      <td>NaN</td>\n",
              "      <td>0.0</td>\n",
              "      <td>NaN</td>\n",
              "    </tr>\n",
              "    <tr>\n",
              "      <th>2</th>\n",
              "      <td>5196000.0</td>\n",
              "      <td>56.0</td>\n",
              "      <td>2</td>\n",
              "      <td>NaN</td>\n",
              "      <td>5.0</td>\n",
              "      <td>34.3</td>\n",
              "      <td>4</td>\n",
              "      <td>NaN</td>\n",
              "      <td>False</td>\n",
              "      <td>False</td>\n",
              "      <td>8.3</td>\n",
              "      <td>0.0</td>\n",
              "      <td>21741.0</td>\n",
              "      <td>13933.0</td>\n",
              "      <td>1.0</td>\n",
              "      <td>90.0</td>\n",
              "      <td>2.0</td>\n",
              "      <td>574.0</td>\n",
              "    </tr>\n",
              "    <tr>\n",
              "      <th>3</th>\n",
              "      <td>64900000.0</td>\n",
              "      <td>159.0</td>\n",
              "      <td>3</td>\n",
              "      <td>NaN</td>\n",
              "      <td>14.0</td>\n",
              "      <td>NaN</td>\n",
              "      <td>9</td>\n",
              "      <td>NaN</td>\n",
              "      <td>False</td>\n",
              "      <td>False</td>\n",
              "      <td>NaN</td>\n",
              "      <td>0.0</td>\n",
              "      <td>28098.0</td>\n",
              "      <td>6800.0</td>\n",
              "      <td>2.0</td>\n",
              "      <td>84.0</td>\n",
              "      <td>3.0</td>\n",
              "      <td>234.0</td>\n",
              "    </tr>\n",
              "    <tr>\n",
              "      <th>4</th>\n",
              "      <td>10000000.0</td>\n",
              "      <td>100.0</td>\n",
              "      <td>2</td>\n",
              "      <td>3.03</td>\n",
              "      <td>14.0</td>\n",
              "      <td>32.0</td>\n",
              "      <td>13</td>\n",
              "      <td>NaN</td>\n",
              "      <td>False</td>\n",
              "      <td>False</td>\n",
              "      <td>41.0</td>\n",
              "      <td>NaN</td>\n",
              "      <td>31856.0</td>\n",
              "      <td>8098.0</td>\n",
              "      <td>2.0</td>\n",
              "      <td>112.0</td>\n",
              "      <td>1.0</td>\n",
              "      <td>48.0</td>\n",
              "    </tr>\n",
              "  </tbody>\n",
              "</table>\n",
              "</div>\n",
              "    <div class=\"colab-df-buttons\">\n",
              "\n",
              "  <div class=\"colab-df-container\">\n",
              "    <button class=\"colab-df-convert\" onclick=\"convertToInteractive('df-f35efc02-ba93-49c0-863b-5c714275d760')\"\n",
              "            title=\"Convert this dataframe to an interactive table.\"\n",
              "            style=\"display:none;\">\n",
              "\n",
              "  <svg xmlns=\"http://www.w3.org/2000/svg\" height=\"24px\" viewBox=\"0 -960 960 960\">\n",
              "    <path d=\"M120-120v-720h720v720H120Zm60-500h600v-160H180v160Zm220 220h160v-160H400v160Zm0 220h160v-160H400v160ZM180-400h160v-160H180v160Zm440 0h160v-160H620v160ZM180-180h160v-160H180v160Zm440 0h160v-160H620v160Z\"/>\n",
              "  </svg>\n",
              "    </button>\n",
              "\n",
              "  <style>\n",
              "    .colab-df-container {\n",
              "      display:flex;\n",
              "      gap: 12px;\n",
              "    }\n",
              "\n",
              "    .colab-df-convert {\n",
              "      background-color: #E8F0FE;\n",
              "      border: none;\n",
              "      border-radius: 50%;\n",
              "      cursor: pointer;\n",
              "      display: none;\n",
              "      fill: #1967D2;\n",
              "      height: 32px;\n",
              "      padding: 0 0 0 0;\n",
              "      width: 32px;\n",
              "    }\n",
              "\n",
              "    .colab-df-convert:hover {\n",
              "      background-color: #E2EBFA;\n",
              "      box-shadow: 0px 1px 2px rgba(60, 64, 67, 0.3), 0px 1px 3px 1px rgba(60, 64, 67, 0.15);\n",
              "      fill: #174EA6;\n",
              "    }\n",
              "\n",
              "    .colab-df-buttons div {\n",
              "      margin-bottom: 4px;\n",
              "    }\n",
              "\n",
              "    [theme=dark] .colab-df-convert {\n",
              "      background-color: #3B4455;\n",
              "      fill: #D2E3FC;\n",
              "    }\n",
              "\n",
              "    [theme=dark] .colab-df-convert:hover {\n",
              "      background-color: #434B5C;\n",
              "      box-shadow: 0px 1px 3px 1px rgba(0, 0, 0, 0.15);\n",
              "      filter: drop-shadow(0px 1px 2px rgba(0, 0, 0, 0.3));\n",
              "      fill: #FFFFFF;\n",
              "    }\n",
              "  </style>\n",
              "\n",
              "    <script>\n",
              "      const buttonEl =\n",
              "        document.querySelector('#df-f35efc02-ba93-49c0-863b-5c714275d760 button.colab-df-convert');\n",
              "      buttonEl.style.display =\n",
              "        google.colab.kernel.accessAllowed ? 'block' : 'none';\n",
              "\n",
              "      async function convertToInteractive(key) {\n",
              "        const element = document.querySelector('#df-f35efc02-ba93-49c0-863b-5c714275d760');\n",
              "        const dataTable =\n",
              "          await google.colab.kernel.invokeFunction('convertToInteractive',\n",
              "                                                    [key], {});\n",
              "        if (!dataTable) return;\n",
              "\n",
              "        const docLinkHtml = 'Like what you see? Visit the ' +\n",
              "          '<a target=\"_blank\" href=https://colab.research.google.com/notebooks/data_table.ipynb>data table notebook</a>'\n",
              "          + ' to learn more about interactive tables.';\n",
              "        element.innerHTML = '';\n",
              "        dataTable['output_type'] = 'display_data';\n",
              "        await google.colab.output.renderOutput(dataTable, element);\n",
              "        const docLink = document.createElement('div');\n",
              "        docLink.innerHTML = docLinkHtml;\n",
              "        element.appendChild(docLink);\n",
              "      }\n",
              "    </script>\n",
              "  </div>\n",
              "\n",
              "\n",
              "<div id=\"df-23973965-1cef-4a7e-a4cf-977aaa92e05a\">\n",
              "  <button class=\"colab-df-quickchart\" onclick=\"quickchart('df-23973965-1cef-4a7e-a4cf-977aaa92e05a')\"\n",
              "            title=\"Suggest charts\"\n",
              "            style=\"display:none;\">\n",
              "\n",
              "<svg xmlns=\"http://www.w3.org/2000/svg\" height=\"24px\"viewBox=\"0 0 24 24\"\n",
              "     width=\"24px\">\n",
              "    <g>\n",
              "        <path d=\"M19 3H5c-1.1 0-2 .9-2 2v14c0 1.1.9 2 2 2h14c1.1 0 2-.9 2-2V5c0-1.1-.9-2-2-2zM9 17H7v-7h2v7zm4 0h-2V7h2v10zm4 0h-2v-4h2v4z\"/>\n",
              "    </g>\n",
              "</svg>\n",
              "  </button>\n",
              "\n",
              "<style>\n",
              "  .colab-df-quickchart {\n",
              "      --bg-color: #E8F0FE;\n",
              "      --fill-color: #1967D2;\n",
              "      --hover-bg-color: #E2EBFA;\n",
              "      --hover-fill-color: #174EA6;\n",
              "      --disabled-fill-color: #AAA;\n",
              "      --disabled-bg-color: #DDD;\n",
              "  }\n",
              "\n",
              "  [theme=dark] .colab-df-quickchart {\n",
              "      --bg-color: #3B4455;\n",
              "      --fill-color: #D2E3FC;\n",
              "      --hover-bg-color: #434B5C;\n",
              "      --hover-fill-color: #FFFFFF;\n",
              "      --disabled-bg-color: #3B4455;\n",
              "      --disabled-fill-color: #666;\n",
              "  }\n",
              "\n",
              "  .colab-df-quickchart {\n",
              "    background-color: var(--bg-color);\n",
              "    border: none;\n",
              "    border-radius: 50%;\n",
              "    cursor: pointer;\n",
              "    display: none;\n",
              "    fill: var(--fill-color);\n",
              "    height: 32px;\n",
              "    padding: 0;\n",
              "    width: 32px;\n",
              "  }\n",
              "\n",
              "  .colab-df-quickchart:hover {\n",
              "    background-color: var(--hover-bg-color);\n",
              "    box-shadow: 0 1px 2px rgba(60, 64, 67, 0.3), 0 1px 3px 1px rgba(60, 64, 67, 0.15);\n",
              "    fill: var(--button-hover-fill-color);\n",
              "  }\n",
              "\n",
              "  .colab-df-quickchart-complete:disabled,\n",
              "  .colab-df-quickchart-complete:disabled:hover {\n",
              "    background-color: var(--disabled-bg-color);\n",
              "    fill: var(--disabled-fill-color);\n",
              "    box-shadow: none;\n",
              "  }\n",
              "\n",
              "  .colab-df-spinner {\n",
              "    border: 2px solid var(--fill-color);\n",
              "    border-color: transparent;\n",
              "    border-bottom-color: var(--fill-color);\n",
              "    animation:\n",
              "      spin 1s steps(1) infinite;\n",
              "  }\n",
              "\n",
              "  @keyframes spin {\n",
              "    0% {\n",
              "      border-color: transparent;\n",
              "      border-bottom-color: var(--fill-color);\n",
              "      border-left-color: var(--fill-color);\n",
              "    }\n",
              "    20% {\n",
              "      border-color: transparent;\n",
              "      border-left-color: var(--fill-color);\n",
              "      border-top-color: var(--fill-color);\n",
              "    }\n",
              "    30% {\n",
              "      border-color: transparent;\n",
              "      border-left-color: var(--fill-color);\n",
              "      border-top-color: var(--fill-color);\n",
              "      border-right-color: var(--fill-color);\n",
              "    }\n",
              "    40% {\n",
              "      border-color: transparent;\n",
              "      border-right-color: var(--fill-color);\n",
              "      border-top-color: var(--fill-color);\n",
              "    }\n",
              "    60% {\n",
              "      border-color: transparent;\n",
              "      border-right-color: var(--fill-color);\n",
              "    }\n",
              "    80% {\n",
              "      border-color: transparent;\n",
              "      border-right-color: var(--fill-color);\n",
              "      border-bottom-color: var(--fill-color);\n",
              "    }\n",
              "    90% {\n",
              "      border-color: transparent;\n",
              "      border-bottom-color: var(--fill-color);\n",
              "    }\n",
              "  }\n",
              "</style>\n",
              "\n",
              "  <script>\n",
              "    async function quickchart(key) {\n",
              "      const quickchartButtonEl =\n",
              "        document.querySelector('#' + key + ' button');\n",
              "      quickchartButtonEl.disabled = true;  // To prevent multiple clicks.\n",
              "      quickchartButtonEl.classList.add('colab-df-spinner');\n",
              "      try {\n",
              "        const charts = await google.colab.kernel.invokeFunction(\n",
              "            'suggestCharts', [key], {});\n",
              "      } catch (error) {\n",
              "        console.error('Error during call to suggestCharts:', error);\n",
              "      }\n",
              "      quickchartButtonEl.classList.remove('colab-df-spinner');\n",
              "      quickchartButtonEl.classList.add('colab-df-quickchart-complete');\n",
              "    }\n",
              "    (() => {\n",
              "      let quickchartButtonEl =\n",
              "        document.querySelector('#df-23973965-1cef-4a7e-a4cf-977aaa92e05a button');\n",
              "      quickchartButtonEl.style.display =\n",
              "        google.colab.kernel.accessAllowed ? 'block' : 'none';\n",
              "    })();\n",
              "  </script>\n",
              "</div>\n",
              "    </div>\n",
              "  </div>\n"
            ]
          },
          "metadata": {},
          "execution_count": 400
        }
      ]
    },
    {
      "cell_type": "markdown",
      "source": [
        "Первый взгляд на DataFraame"
      ],
      "metadata": {
        "id": "F_Gp-wB_pU5T"
      }
    },
    {
      "cell_type": "code",
      "source": [
        "df.info()"
      ],
      "metadata": {
        "id": "gK0K7XTvcyb5"
      },
      "execution_count": null,
      "outputs": []
    },
    {
      "cell_type": "code",
      "source": [
        "df.describe(include = \"all\")"
      ],
      "metadata": {
        "id": "hY8fU_i8BD_l"
      },
      "execution_count": null,
      "outputs": []
    },
    {
      "cell_type": "markdown",
      "source": [
        "Присутствуют аномальные значения: last_price(min), last_price(max), rooms(min), ceiling_height(min),ceiling_height(max), living_area(min), kitchen_area(min)"
      ],
      "metadata": {
        "id": "Y7MtfTBl-t2d"
      }
    },
    {
      "cell_type": "markdown",
      "source": [
        "Проверим DataFrame на дубликаты"
      ],
      "metadata": {
        "id": "RHyAAMrNpDlF"
      }
    },
    {
      "cell_type": "code",
      "source": [
        "df.duplicated().sum()"
      ],
      "metadata": {
        "id": "zSsowuFhodDO"
      },
      "execution_count": null,
      "outputs": []
    },
    {
      "cell_type": "markdown",
      "source": [
        "удалим дубликаты"
      ],
      "metadata": {
        "id": "vfUnciJBjE-H"
      }
    },
    {
      "cell_type": "code",
      "source": [
        "df=df.drop_duplicates()"
      ],
      "metadata": {
        "id": "3-O_vfjjjIOf"
      },
      "execution_count": 404,
      "outputs": []
    },
    {
      "cell_type": "markdown",
      "source": [
        "проверка"
      ],
      "metadata": {
        "id": "XlD_hErGjgmk"
      }
    },
    {
      "cell_type": "code",
      "source": [
        "df.duplicated().sum()"
      ],
      "metadata": {
        "id": "YAe7d_xBjfJR"
      },
      "execution_count": null,
      "outputs": []
    },
    {
      "cell_type": "markdown",
      "source": [
        "дубликатов нет"
      ],
      "metadata": {
        "id": "JbfxK9Bipbza"
      }
    },
    {
      "cell_type": "markdown",
      "source": [
        "также мы видим много пропусков данных в строках. Посмотрим на них внимательнее"
      ],
      "metadata": {
        "id": "UEBEdKD-Bh15"
      }
    },
    {
      "cell_type": "code",
      "source": [
        "df.isnull().describe()"
      ],
      "metadata": {
        "id": "28hpGPdMCORq"
      },
      "execution_count": null,
      "outputs": []
    },
    {
      "cell_type": "markdown",
      "source": [
        "Посмотрим - сколько пропущенных значений в каждой колонке."
      ],
      "metadata": {
        "id": "KiZ19oPECsIf"
      }
    },
    {
      "cell_type": "code",
      "source": [
        "df.isnull().sum()"
      ],
      "metadata": {
        "id": "sT2O6czhCZNn"
      },
      "execution_count": null,
      "outputs": []
    },
    {
      "cell_type": "markdown",
      "source": [
        "Преобразуем отсутствующие данные в столбцах в нулевые значения"
      ],
      "metadata": {
        "id": "lJX7OHP0u0Xk"
      }
    },
    {
      "cell_type": "code",
      "source": [
        "df['is_apartment'] = df['is_apartment'].fillna(value=0).astype(int)\n",
        "df['balcony'] = df['balcony'].fillna(value=0).astype(int)\n",
        "df['parks_around3000'] = df['parks_around3000'].fillna(value=0).astype(int)\n",
        "df['ponds_around3000'] = df['ponds_around3000'].fillna(value=0).astype(int)"
      ],
      "metadata": {
        "id": "8nlOpUxkHnlm"
      },
      "execution_count": 408,
      "outputs": []
    },
    {
      "cell_type": "markdown",
      "source": [
        "Заменим во всех столбцах False на 0, а True на 1"
      ],
      "metadata": {
        "id": "byXSF2xmSbaB"
      }
    },
    {
      "cell_type": "code",
      "source": [
        "df = df.replace({True: 1, False: 0})"
      ],
      "metadata": {
        "id": "5iq_VEiTSgLy"
      },
      "execution_count": 409,
      "outputs": []
    },
    {
      "cell_type": "code",
      "source": [
        "df.head()"
      ],
      "metadata": {
        "id": "2hWE1PFFSnId"
      },
      "execution_count": null,
      "outputs": []
    },
    {
      "cell_type": "markdown",
      "source": [
        "Удалим строки где нет информации об этажности домов"
      ],
      "metadata": {
        "id": "wb-KeKghTsGu"
      }
    },
    {
      "cell_type": "code",
      "source": [
        "df.dropna(subset=['floors_total'], inplace=True)"
      ],
      "metadata": {
        "id": "3UbWHm_nwJD6"
      },
      "execution_count": 411,
      "outputs": []
    },
    {
      "cell_type": "markdown",
      "source": [
        "Заменим пустые значения жилой площади и кухни, для этого получим коэффициент отношения среднего значения жилой площади к среднему значению общей площади и умножим на общую площадь объекта.\n"
      ],
      "metadata": {
        "id": "mUplcU1o2jwY"
      }
    },
    {
      "cell_type": "code",
      "source": [
        "df['living_area'].fillna(df['total_area']*(df['living_area'].mean() / df['total_area'].mean()), inplace=True)\n",
        "df['kitchen_area'].fillna(df['total_area']*(df['kitchen_area'].mean() / df['total_area'].mean()), inplace=True)"
      ],
      "metadata": {
        "id": "iZOBUVzO2kXI"
      },
      "execution_count": 412,
      "outputs": []
    },
    {
      "cell_type": "markdown",
      "source": [
        "Заменим пустые значения высоты потолков на медианное значение"
      ],
      "metadata": {
        "id": "aDF0ltLy2B0c"
      }
    },
    {
      "cell_type": "code",
      "source": [
        "df['ceiling_height'].fillna(df['ceiling_height'].median(), inplace=True)"
      ],
      "metadata": {
        "id": "wg6aFLqo2DLd"
      },
      "execution_count": 413,
      "outputs": []
    },
    {
      "cell_type": "markdown",
      "source": [
        "В связи с тем что удаленность от прудов и парков имеет больше половины пропусков, данные столбцы удаляем из DataFrame"
      ],
      "metadata": {
        "id": "H38WXNw_4Uda"
      }
    },
    {
      "cell_type": "code",
      "source": [
        "df.drop(['parks_nearest', 'ponds_nearest'], axis= 1 , inplace= True )"
      ],
      "metadata": {
        "id": "USl64hJl4rJ_"
      },
      "execution_count": 414,
      "outputs": []
    },
    {
      "cell_type": "markdown",
      "source": [
        "Так же удалим столбец удаленности от аэропорта"
      ],
      "metadata": {
        "id": "_dngz_Vd6jym"
      }
    },
    {
      "cell_type": "code",
      "source": [
        "df.drop(['airports_nearest'], axis= 1 , inplace= True )"
      ],
      "metadata": {
        "id": "UKU8BZ4D6ygF"
      },
      "execution_count": 415,
      "outputs": []
    },
    {
      "cell_type": "markdown",
      "source": [
        "Удалим отсутствующие записи удаленности от центра, так как некорректные данные смогут внести корректировку в определение стоимости квартиры"
      ],
      "metadata": {
        "id": "5NTqSn_B7COd"
      }
    },
    {
      "cell_type": "code",
      "source": [
        "df.dropna(subset=['cityCenters_nearest'], inplace=True)"
      ],
      "metadata": {
        "id": "Zh6z1uOf68hX"
      },
      "execution_count": 416,
      "outputs": []
    },
    {
      "cell_type": "markdown",
      "source": [
        "Добавим столбец стоимость кв.м."
      ],
      "metadata": {
        "id": "Hs4iEfu4rlEz"
      }
    },
    {
      "cell_type": "code",
      "source": [
        "df['стоимость кв.м.'] = df['last_price']/df['total_area']\n",
        "df['стоимость кв.м.']=df['стоимость кв.м.'].astype('int32')"
      ],
      "metadata": {
        "id": "NJJPjP22IGVd"
      },
      "execution_count": 417,
      "outputs": []
    },
    {
      "cell_type": "markdown",
      "source": [
        "Добавим столбец c типом этажа\n",
        "\n"
      ],
      "metadata": {
        "id": "jr_oU6XuhYQQ"
      }
    },
    {
      "cell_type": "code",
      "source": [
        "def floor_lv(row):\n",
        "    if row['floor'] == 1:\n",
        "        return 'первый'\n",
        "    elif row['floor'] == row['floors_total']:\n",
        "        return 'последний'\n",
        "    else:\n",
        "        return 'средний'\n",
        "df['floor_level'] = df.apply(floor_lv, axis=1)\n"
      ],
      "metadata": {
        "id": "4TVIJDUJgzGj"
      },
      "execution_count": 418,
      "outputs": []
    },
    {
      "cell_type": "markdown",
      "source": [
        "Потолки"
      ],
      "metadata": {
        "id": "GNQq3CAa-LEM"
      }
    },
    {
      "cell_type": "code",
      "source": [
        "df['ceiling_height'].describe()"
      ],
      "metadata": {
        "id": "xlHUaPhz-MvE",
        "colab": {
          "base_uri": "https://localhost:8080/"
        },
        "outputId": "3684e0c2-d12f-4934-e2c2-de03f8f675fa"
      },
      "execution_count": 419,
      "outputs": [
        {
          "output_type": "execute_result",
          "data": {
            "text/plain": [
              "count    18104.000000\n",
              "mean         2.737167\n",
              "std          0.988372\n",
              "min          1.000000\n",
              "25%          2.600000\n",
              "50%          2.650000\n",
              "75%          2.730000\n",
              "max        100.000000\n",
              "Name: ceiling_height, dtype: float64"
            ]
          },
          "metadata": {},
          "execution_count": 419
        }
      ]
    },
    {
      "cell_type": "markdown",
      "source": [
        "Посмотрим на аномальные данные"
      ],
      "metadata": {
        "id": "FzJUHQq5__Jj"
      }
    },
    {
      "cell_type": "code",
      "source": [
        "df[df['ceiling_height']>4]"
      ],
      "metadata": {
        "id": "lxSuGoOW_38R"
      },
      "execution_count": null,
      "outputs": []
    },
    {
      "cell_type": "code",
      "source": [
        "df[df['ceiling_height']<2.5]"
      ],
      "metadata": {
        "id": "KaoIU1V1jVc3"
      },
      "execution_count": null,
      "outputs": []
    },
    {
      "cell_type": "markdown",
      "source": [
        "минимальные значения высоты потока прописаны в СП 54.13330.2016 «СНиП 31-01-2003 Здания жилые многоквартирные». В своде правил установлено, что в многоквартирных домах в центральной части России потолок должен быть не ниже 2,5 м, а в Сибири, на Дальнем Востоке и на севере Центральной России — не ниже 2,7 м. Максимальная высота потолков в элитной застройке  до 4 метров в зависимости от площади квартиры. В связи с тем что квартиры в DataFrame вносились в ручную, возможно была допущена ошибка. Внесем изменение и установим для этих квартир высоту потолков 2.6м.(как среднюю между 2.5 и 2.7)"
      ],
      "metadata": {
        "id": "IeL08f7QH9E-"
      }
    },
    {
      "cell_type": "code",
      "source": [
        "df.loc[(df['ceiling_height'] < 2.5), 'ceiling_height'] = 2.6\n",
        "df.loc[(df['ceiling_height'] > 4), 'ceiling_height'] = 2.6"
      ],
      "metadata": {
        "id": "yTl2XJ-KKsq6"
      },
      "execution_count": 422,
      "outputs": []
    },
    {
      "cell_type": "markdown",
      "source": [
        "Создадим столбец удаленности от центра в км."
      ],
      "metadata": {
        "id": "mDSP2ZqiC1MJ"
      }
    },
    {
      "cell_type": "code",
      "source": [
        "df['cityCenters_nearest, км.']=df['cityCenters_nearest']/1000"
      ],
      "metadata": {
        "id": "Evc7uG9SCJed"
      },
      "execution_count": 423,
      "outputs": []
    },
    {
      "cell_type": "code",
      "source": [
        "df['cityCenters_nearest, км.'] = df['cityCenters_nearest, км.'].round(1)\n",
        "df = df.drop('cityCenters_nearest', axis=1)"
      ],
      "metadata": {
        "id": "CP2qjm0xCmJW"
      },
      "execution_count": 424,
      "outputs": []
    },
    {
      "cell_type": "code",
      "source": [
        "df.isnull().sum()"
      ],
      "metadata": {
        "id": "VQCDW9J6JJnE"
      },
      "execution_count": null,
      "outputs": []
    },
    {
      "cell_type": "code",
      "source": [
        "df.describe()"
      ],
      "metadata": {
        "id": "4VGrLrciAxSf"
      },
      "execution_count": null,
      "outputs": []
    },
    {
      "cell_type": "markdown",
      "source": [
        "**Стоимость квартир**"
      ],
      "metadata": {
        "id": "2BW4zS9Nr8Up"
      }
    },
    {
      "cell_type": "code",
      "source": [
        "df['last_price'].describe()"
      ],
      "metadata": {
        "id": "kdg4LsBAvWI8",
        "colab": {
          "base_uri": "https://localhost:8080/"
        },
        "outputId": "820af435-95a2-420e-b291-2aff118b13bb"
      },
      "execution_count": 427,
      "outputs": [
        {
          "output_type": "execute_result",
          "data": {
            "text/plain": [
              "count    1.810400e+04\n",
              "mean     7.574629e+06\n",
              "std      1.215979e+07\n",
              "min      1.219000e+04\n",
              "25%      4.000000e+06\n",
              "50%      5.250000e+06\n",
              "75%      7.690000e+06\n",
              "max      7.630000e+08\n",
              "Name: last_price, dtype: float64"
            ]
          },
          "metadata": {},
          "execution_count": 427
        }
      ]
    },
    {
      "cell_type": "markdown",
      "source": [
        "Квартира стоимостью 12 тыс."
      ],
      "metadata": {
        "id": "HdqOlKNHB8ke"
      }
    },
    {
      "cell_type": "code",
      "source": [
        "df[df['last_price']<100000]"
      ],
      "metadata": {
        "id": "G-3HmdnzEA3n"
      },
      "execution_count": null,
      "outputs": []
    },
    {
      "cell_type": "markdown",
      "source": [
        "На лицо ошибка введения данных. Посмотрим аналогичные квартиры на удаленности 9 км от центра"
      ],
      "metadata": {
        "id": "Rl6cJwwSEe4w"
      }
    },
    {
      "cell_type": "code",
      "source": [
        "df.loc[(df['cityCenters_nearest, км.'] > 9) & (df['cityCenters_nearest, км.'] <= 10)& (df['total_area'] > 108)& (df['total_area'] <= 110)]"
      ],
      "metadata": {
        "id": "p6C4nEZGEzfb"
      },
      "execution_count": null,
      "outputs": []
    },
    {
      "cell_type": "markdown",
      "source": [
        "видно что при внесении данных пропустили 000. Внесем изменение в 2- последних столбца."
      ],
      "metadata": {
        "id": "7ZIHACRKF4Qg"
      }
    },
    {
      "cell_type": "code",
      "source": [
        "df.loc[(df['last_price'] == 12190.0), 'last_price'] = 12190000.0"
      ],
      "metadata": {
        "id": "CWdH8wkHGdko"
      },
      "execution_count": 430,
      "outputs": []
    },
    {
      "cell_type": "code",
      "source": [
        "px.box(df, x='last_price')"
      ],
      "metadata": {
        "id": "AuspFfJns39R"
      },
      "execution_count": null,
      "outputs": []
    },
    {
      "cell_type": "markdown",
      "source": [
        "Удалим выбросы, в данном случае и в остальных будем удалять выбросы основываясь на квартили с учетом 1.5 размаха"
      ],
      "metadata": {
        "id": "V-Ktr_SRa6_5"
      }
    },
    {
      "cell_type": "code",
      "source": [
        "outliers = boxplot_stats(df[\"last_price\"]).pop(0)['fliers']\n",
        "df = df[~df[\"last_price\"].isin(outliers)]"
      ],
      "metadata": {
        "id": "frtn_55pa9qr"
      },
      "execution_count": 432,
      "outputs": []
    },
    {
      "cell_type": "markdown",
      "source": [
        "**Общая площадь**"
      ],
      "metadata": {
        "id": "Udqe14eopzGo"
      }
    },
    {
      "cell_type": "code",
      "source": [
        "df['total_area'].describe()"
      ],
      "metadata": {
        "id": "p84UvWDmtqbs",
        "colab": {
          "base_uri": "https://localhost:8080/"
        },
        "outputId": "cc000389-c015-4589-96a3-7dae2458d256"
      },
      "execution_count": 433,
      "outputs": [
        {
          "output_type": "execute_result",
          "data": {
            "text/plain": [
              "count    16530.000000\n",
              "mean        55.649750\n",
              "std         21.119883\n",
              "min         12.000000\n",
              "25%         40.000000\n",
              "50%         51.000000\n",
              "75%         66.800000\n",
              "max        255.000000\n",
              "Name: total_area, dtype: float64"
            ]
          },
          "metadata": {},
          "execution_count": 433
        }
      ]
    },
    {
      "cell_type": "code",
      "source": [
        "px.box(df, x='total_area')"
      ],
      "metadata": {
        "id": "joQEcN9ywHPj"
      },
      "execution_count": null,
      "outputs": []
    },
    {
      "cell_type": "markdown",
      "source": [
        "Удалим выбросы"
      ],
      "metadata": {
        "id": "ih2mMeuNAkwO"
      }
    },
    {
      "cell_type": "code",
      "source": [
        "outliers = boxplot_stats(df[\"total_area\"]).pop(0)['fliers']\n",
        "df = df[~df[\"total_area\"].isin(outliers)]"
      ],
      "metadata": {
        "id": "_2RMdFR-wOBA"
      },
      "execution_count": 435,
      "outputs": []
    },
    {
      "cell_type": "markdown",
      "source": [
        "**Жилая площадь**"
      ],
      "metadata": {
        "id": "JJX4EpTDwobT"
      }
    },
    {
      "cell_type": "code",
      "source": [
        "df['living_area'].describe()"
      ],
      "metadata": {
        "id": "7_gYpu3IwrvS"
      },
      "execution_count": null,
      "outputs": []
    },
    {
      "cell_type": "markdown",
      "source": [
        "Согласно действующим СНиПам, минимальная площадь комнаты должна быть не менее 8 квадратных метров (п. 5.3 СП 5.413330.2011), при этом её ширина не должна бы ть меньше 2,25 метра (п 6.1.9 СП 31-107-2004)."
      ],
      "metadata": {
        "id": "xraf3uhKHh8g"
      }
    },
    {
      "cell_type": "code",
      "source": [
        "df.loc[(df['living_area'] < 8), 'living_area'] = 8"
      ],
      "metadata": {
        "id": "Tk07yXPIHMyd"
      },
      "execution_count": 437,
      "outputs": []
    },
    {
      "cell_type": "code",
      "source": [
        "px.box(df, x='living_area')"
      ],
      "metadata": {
        "id": "u3ShuaX0w1FX"
      },
      "execution_count": null,
      "outputs": []
    },
    {
      "cell_type": "markdown",
      "source": [
        "Удалим выбросы"
      ],
      "metadata": {
        "id": "bf8z_acXAdX2"
      }
    },
    {
      "cell_type": "code",
      "source": [
        "outliers = boxplot_stats(df[\"living_area\"]).pop(0)['fliers']\n",
        "df = df[~df[\"living_area\"].isin(outliers)]"
      ],
      "metadata": {
        "id": "HAE94Dz_OVZx"
      },
      "execution_count": 439,
      "outputs": []
    },
    {
      "cell_type": "markdown",
      "source": [
        "**Кухни**"
      ],
      "metadata": {
        "id": "o0_v1Q-9w9B5"
      }
    },
    {
      "cell_type": "code",
      "source": [
        "df['kitchen_area'].describe()"
      ],
      "metadata": {
        "id": "TaNwNeYIxAhP"
      },
      "execution_count": null,
      "outputs": []
    },
    {
      "cell_type": "markdown",
      "source": [
        "по СНиПам ширина кухни должна быть не менее 1,8 м, более удобная 2,4 м. Минимальная площадь кухни 8 кв.м, рекомендована 12 кв.м."
      ],
      "metadata": {
        "id": "WWxwZ_2EIT4P"
      }
    },
    {
      "cell_type": "code",
      "source": [
        "df.loc[(df['kitchen_area'] < 8), 'kitchen_area'] = 8"
      ],
      "metadata": {
        "id": "DRFpLatrIUsE"
      },
      "execution_count": 441,
      "outputs": []
    },
    {
      "cell_type": "code",
      "source": [
        "px.box(df, x='kitchen_area')"
      ],
      "metadata": {
        "id": "YfVC2k1xxG4H"
      },
      "execution_count": null,
      "outputs": []
    },
    {
      "cell_type": "markdown",
      "source": [
        "Удалим выбросы"
      ],
      "metadata": {
        "id": "HXdieEokAhzH"
      }
    },
    {
      "cell_type": "code",
      "source": [
        "outliers = boxplot_stats(df[\"kitchen_area\"]).pop(0)['fliers']\n",
        "df = df[~df[\"kitchen_area\"].isin(outliers)]"
      ],
      "metadata": {
        "id": "Vl5pKRqlxMc3"
      },
      "execution_count": 443,
      "outputs": []
    },
    {
      "cell_type": "markdown",
      "source": [
        "**Комнаты**"
      ],
      "metadata": {
        "id": "wI8o0piXpzDj"
      }
    },
    {
      "cell_type": "code",
      "source": [
        "df['rooms'].describe()"
      ],
      "metadata": {
        "id": "Kw4Ig0YPwVOg",
        "colab": {
          "base_uri": "https://localhost:8080/"
        },
        "outputId": "9f312f3e-e09a-4e10-a7cd-3f36fccbe102"
      },
      "execution_count": 444,
      "outputs": [
        {
          "output_type": "execute_result",
          "data": {
            "text/plain": [
              "count    15106.000000\n",
              "mean         1.923209\n",
              "std          0.885685\n",
              "min          0.000000\n",
              "25%          1.000000\n",
              "50%          2.000000\n",
              "75%          3.000000\n",
              "max          6.000000\n",
              "Name: rooms, dtype: float64"
            ]
          },
          "metadata": {},
          "execution_count": 444
        }
      ]
    },
    {
      "cell_type": "code",
      "source": [
        "px.box(df, x='rooms')"
      ],
      "metadata": {
        "id": "3uaPt3yiwbpr"
      },
      "execution_count": null,
      "outputs": []
    },
    {
      "cell_type": "markdown",
      "source": [
        "Расставим столбцы в нужном (для меня) порядке"
      ],
      "metadata": {
        "id": "gq-z67hmpglO"
      }
    },
    {
      "cell_type": "code",
      "source": [
        "df = df[['floor', 'floor_level', 'floors_total', 'rooms', 'living_area', 'kitchen_area', 'total_area', 'ceiling_height',\n",
        "'balcony', 'is_apartment', 'studio', 'open_plan', 'cityCenters_nearest, км.',\n",
        "'parks_around3000', 'ponds_around3000', 'last_price', 'стоимость кв.м.']]"
      ],
      "metadata": {
        "id": "jW_KWkWum6Yw"
      },
      "execution_count": 446,
      "outputs": []
    },
    {
      "cell_type": "code",
      "source": [
        "df.head()"
      ],
      "metadata": {
        "id": "ENbHyKEPoV-s",
        "colab": {
          "base_uri": "https://localhost:8080/",
          "height": 243
        },
        "outputId": "05b87fb0-009a-47a1-dac6-5480d2e0c520"
      },
      "execution_count": 447,
      "outputs": [
        {
          "output_type": "execute_result",
          "data": {
            "text/plain": [
              "    floor floor_level  floors_total  rooms  living_area  kitchen_area  \\\n",
              "1       1      первый          11.0      1         18.6          11.0   \n",
              "2       4     средний           5.0      2         34.3           8.3   \n",
              "6       6     средний          26.0      1         10.6          14.4   \n",
              "9       7     средний           9.0      3         43.6           8.0   \n",
              "10      3     средний          12.0      1         20.3           8.5   \n",
              "\n",
              "    total_area  ceiling_height  balcony  is_apartment  studio  open_plan  \\\n",
              "1         40.4            2.65        2             0       0          0   \n",
              "2         56.0            2.65        0             0       0          0   \n",
              "6         37.3            2.65        1             0       0          0   \n",
              "9         61.0            2.50        2             0       0          0   \n",
              "10        39.6            2.67        0             0       0          0   \n",
              "\n",
              "    cityCenters_nearest, км.  parks_around3000  ponds_around3000  last_price  \\\n",
              "1                       18.6                 0                 0   3350000.0   \n",
              "2                       13.9                 1                 2   5196000.0   \n",
              "6                       19.1                 0                 0   3700000.0   \n",
              "9                       15.0                 0                 0   5400000.0   \n",
              "10                      13.9                 1                 2   5050000.0   \n",
              "\n",
              "    стоимость кв.м.  \n",
              "1             82920  \n",
              "2             92785  \n",
              "6             99195  \n",
              "9             88524  \n",
              "10           127525  "
            ],
            "text/html": [
              "\n",
              "  <div id=\"df-7ef22d01-dbc4-48f0-840b-a645916016f0\" class=\"colab-df-container\">\n",
              "    <div>\n",
              "<style scoped>\n",
              "    .dataframe tbody tr th:only-of-type {\n",
              "        vertical-align: middle;\n",
              "    }\n",
              "\n",
              "    .dataframe tbody tr th {\n",
              "        vertical-align: top;\n",
              "    }\n",
              "\n",
              "    .dataframe thead th {\n",
              "        text-align: right;\n",
              "    }\n",
              "</style>\n",
              "<table border=\"1\" class=\"dataframe\">\n",
              "  <thead>\n",
              "    <tr style=\"text-align: right;\">\n",
              "      <th></th>\n",
              "      <th>floor</th>\n",
              "      <th>floor_level</th>\n",
              "      <th>floors_total</th>\n",
              "      <th>rooms</th>\n",
              "      <th>living_area</th>\n",
              "      <th>kitchen_area</th>\n",
              "      <th>total_area</th>\n",
              "      <th>ceiling_height</th>\n",
              "      <th>balcony</th>\n",
              "      <th>is_apartment</th>\n",
              "      <th>studio</th>\n",
              "      <th>open_plan</th>\n",
              "      <th>cityCenters_nearest, км.</th>\n",
              "      <th>parks_around3000</th>\n",
              "      <th>ponds_around3000</th>\n",
              "      <th>last_price</th>\n",
              "      <th>стоимость кв.м.</th>\n",
              "    </tr>\n",
              "  </thead>\n",
              "  <tbody>\n",
              "    <tr>\n",
              "      <th>1</th>\n",
              "      <td>1</td>\n",
              "      <td>первый</td>\n",
              "      <td>11.0</td>\n",
              "      <td>1</td>\n",
              "      <td>18.6</td>\n",
              "      <td>11.0</td>\n",
              "      <td>40.4</td>\n",
              "      <td>2.65</td>\n",
              "      <td>2</td>\n",
              "      <td>0</td>\n",
              "      <td>0</td>\n",
              "      <td>0</td>\n",
              "      <td>18.6</td>\n",
              "      <td>0</td>\n",
              "      <td>0</td>\n",
              "      <td>3350000.0</td>\n",
              "      <td>82920</td>\n",
              "    </tr>\n",
              "    <tr>\n",
              "      <th>2</th>\n",
              "      <td>4</td>\n",
              "      <td>средний</td>\n",
              "      <td>5.0</td>\n",
              "      <td>2</td>\n",
              "      <td>34.3</td>\n",
              "      <td>8.3</td>\n",
              "      <td>56.0</td>\n",
              "      <td>2.65</td>\n",
              "      <td>0</td>\n",
              "      <td>0</td>\n",
              "      <td>0</td>\n",
              "      <td>0</td>\n",
              "      <td>13.9</td>\n",
              "      <td>1</td>\n",
              "      <td>2</td>\n",
              "      <td>5196000.0</td>\n",
              "      <td>92785</td>\n",
              "    </tr>\n",
              "    <tr>\n",
              "      <th>6</th>\n",
              "      <td>6</td>\n",
              "      <td>средний</td>\n",
              "      <td>26.0</td>\n",
              "      <td>1</td>\n",
              "      <td>10.6</td>\n",
              "      <td>14.4</td>\n",
              "      <td>37.3</td>\n",
              "      <td>2.65</td>\n",
              "      <td>1</td>\n",
              "      <td>0</td>\n",
              "      <td>0</td>\n",
              "      <td>0</td>\n",
              "      <td>19.1</td>\n",
              "      <td>0</td>\n",
              "      <td>0</td>\n",
              "      <td>3700000.0</td>\n",
              "      <td>99195</td>\n",
              "    </tr>\n",
              "    <tr>\n",
              "      <th>9</th>\n",
              "      <td>7</td>\n",
              "      <td>средний</td>\n",
              "      <td>9.0</td>\n",
              "      <td>3</td>\n",
              "      <td>43.6</td>\n",
              "      <td>8.0</td>\n",
              "      <td>61.0</td>\n",
              "      <td>2.50</td>\n",
              "      <td>2</td>\n",
              "      <td>0</td>\n",
              "      <td>0</td>\n",
              "      <td>0</td>\n",
              "      <td>15.0</td>\n",
              "      <td>0</td>\n",
              "      <td>0</td>\n",
              "      <td>5400000.0</td>\n",
              "      <td>88524</td>\n",
              "    </tr>\n",
              "    <tr>\n",
              "      <th>10</th>\n",
              "      <td>3</td>\n",
              "      <td>средний</td>\n",
              "      <td>12.0</td>\n",
              "      <td>1</td>\n",
              "      <td>20.3</td>\n",
              "      <td>8.5</td>\n",
              "      <td>39.6</td>\n",
              "      <td>2.67</td>\n",
              "      <td>0</td>\n",
              "      <td>0</td>\n",
              "      <td>0</td>\n",
              "      <td>0</td>\n",
              "      <td>13.9</td>\n",
              "      <td>1</td>\n",
              "      <td>2</td>\n",
              "      <td>5050000.0</td>\n",
              "      <td>127525</td>\n",
              "    </tr>\n",
              "  </tbody>\n",
              "</table>\n",
              "</div>\n",
              "    <div class=\"colab-df-buttons\">\n",
              "\n",
              "  <div class=\"colab-df-container\">\n",
              "    <button class=\"colab-df-convert\" onclick=\"convertToInteractive('df-7ef22d01-dbc4-48f0-840b-a645916016f0')\"\n",
              "            title=\"Convert this dataframe to an interactive table.\"\n",
              "            style=\"display:none;\">\n",
              "\n",
              "  <svg xmlns=\"http://www.w3.org/2000/svg\" height=\"24px\" viewBox=\"0 -960 960 960\">\n",
              "    <path d=\"M120-120v-720h720v720H120Zm60-500h600v-160H180v160Zm220 220h160v-160H400v160Zm0 220h160v-160H400v160ZM180-400h160v-160H180v160Zm440 0h160v-160H620v160ZM180-180h160v-160H180v160Zm440 0h160v-160H620v160Z\"/>\n",
              "  </svg>\n",
              "    </button>\n",
              "\n",
              "  <style>\n",
              "    .colab-df-container {\n",
              "      display:flex;\n",
              "      gap: 12px;\n",
              "    }\n",
              "\n",
              "    .colab-df-convert {\n",
              "      background-color: #E8F0FE;\n",
              "      border: none;\n",
              "      border-radius: 50%;\n",
              "      cursor: pointer;\n",
              "      display: none;\n",
              "      fill: #1967D2;\n",
              "      height: 32px;\n",
              "      padding: 0 0 0 0;\n",
              "      width: 32px;\n",
              "    }\n",
              "\n",
              "    .colab-df-convert:hover {\n",
              "      background-color: #E2EBFA;\n",
              "      box-shadow: 0px 1px 2px rgba(60, 64, 67, 0.3), 0px 1px 3px 1px rgba(60, 64, 67, 0.15);\n",
              "      fill: #174EA6;\n",
              "    }\n",
              "\n",
              "    .colab-df-buttons div {\n",
              "      margin-bottom: 4px;\n",
              "    }\n",
              "\n",
              "    [theme=dark] .colab-df-convert {\n",
              "      background-color: #3B4455;\n",
              "      fill: #D2E3FC;\n",
              "    }\n",
              "\n",
              "    [theme=dark] .colab-df-convert:hover {\n",
              "      background-color: #434B5C;\n",
              "      box-shadow: 0px 1px 3px 1px rgba(0, 0, 0, 0.15);\n",
              "      filter: drop-shadow(0px 1px 2px rgba(0, 0, 0, 0.3));\n",
              "      fill: #FFFFFF;\n",
              "    }\n",
              "  </style>\n",
              "\n",
              "    <script>\n",
              "      const buttonEl =\n",
              "        document.querySelector('#df-7ef22d01-dbc4-48f0-840b-a645916016f0 button.colab-df-convert');\n",
              "      buttonEl.style.display =\n",
              "        google.colab.kernel.accessAllowed ? 'block' : 'none';\n",
              "\n",
              "      async function convertToInteractive(key) {\n",
              "        const element = document.querySelector('#df-7ef22d01-dbc4-48f0-840b-a645916016f0');\n",
              "        const dataTable =\n",
              "          await google.colab.kernel.invokeFunction('convertToInteractive',\n",
              "                                                    [key], {});\n",
              "        if (!dataTable) return;\n",
              "\n",
              "        const docLinkHtml = 'Like what you see? Visit the ' +\n",
              "          '<a target=\"_blank\" href=https://colab.research.google.com/notebooks/data_table.ipynb>data table notebook</a>'\n",
              "          + ' to learn more about interactive tables.';\n",
              "        element.innerHTML = '';\n",
              "        dataTable['output_type'] = 'display_data';\n",
              "        await google.colab.output.renderOutput(dataTable, element);\n",
              "        const docLink = document.createElement('div');\n",
              "        docLink.innerHTML = docLinkHtml;\n",
              "        element.appendChild(docLink);\n",
              "      }\n",
              "    </script>\n",
              "  </div>\n",
              "\n",
              "\n",
              "<div id=\"df-f61a8f8c-c0a9-417d-a992-06ad408774e7\">\n",
              "  <button class=\"colab-df-quickchart\" onclick=\"quickchart('df-f61a8f8c-c0a9-417d-a992-06ad408774e7')\"\n",
              "            title=\"Suggest charts\"\n",
              "            style=\"display:none;\">\n",
              "\n",
              "<svg xmlns=\"http://www.w3.org/2000/svg\" height=\"24px\"viewBox=\"0 0 24 24\"\n",
              "     width=\"24px\">\n",
              "    <g>\n",
              "        <path d=\"M19 3H5c-1.1 0-2 .9-2 2v14c0 1.1.9 2 2 2h14c1.1 0 2-.9 2-2V5c0-1.1-.9-2-2-2zM9 17H7v-7h2v7zm4 0h-2V7h2v10zm4 0h-2v-4h2v4z\"/>\n",
              "    </g>\n",
              "</svg>\n",
              "  </button>\n",
              "\n",
              "<style>\n",
              "  .colab-df-quickchart {\n",
              "      --bg-color: #E8F0FE;\n",
              "      --fill-color: #1967D2;\n",
              "      --hover-bg-color: #E2EBFA;\n",
              "      --hover-fill-color: #174EA6;\n",
              "      --disabled-fill-color: #AAA;\n",
              "      --disabled-bg-color: #DDD;\n",
              "  }\n",
              "\n",
              "  [theme=dark] .colab-df-quickchart {\n",
              "      --bg-color: #3B4455;\n",
              "      --fill-color: #D2E3FC;\n",
              "      --hover-bg-color: #434B5C;\n",
              "      --hover-fill-color: #FFFFFF;\n",
              "      --disabled-bg-color: #3B4455;\n",
              "      --disabled-fill-color: #666;\n",
              "  }\n",
              "\n",
              "  .colab-df-quickchart {\n",
              "    background-color: var(--bg-color);\n",
              "    border: none;\n",
              "    border-radius: 50%;\n",
              "    cursor: pointer;\n",
              "    display: none;\n",
              "    fill: var(--fill-color);\n",
              "    height: 32px;\n",
              "    padding: 0;\n",
              "    width: 32px;\n",
              "  }\n",
              "\n",
              "  .colab-df-quickchart:hover {\n",
              "    background-color: var(--hover-bg-color);\n",
              "    box-shadow: 0 1px 2px rgba(60, 64, 67, 0.3), 0 1px 3px 1px rgba(60, 64, 67, 0.15);\n",
              "    fill: var(--button-hover-fill-color);\n",
              "  }\n",
              "\n",
              "  .colab-df-quickchart-complete:disabled,\n",
              "  .colab-df-quickchart-complete:disabled:hover {\n",
              "    background-color: var(--disabled-bg-color);\n",
              "    fill: var(--disabled-fill-color);\n",
              "    box-shadow: none;\n",
              "  }\n",
              "\n",
              "  .colab-df-spinner {\n",
              "    border: 2px solid var(--fill-color);\n",
              "    border-color: transparent;\n",
              "    border-bottom-color: var(--fill-color);\n",
              "    animation:\n",
              "      spin 1s steps(1) infinite;\n",
              "  }\n",
              "\n",
              "  @keyframes spin {\n",
              "    0% {\n",
              "      border-color: transparent;\n",
              "      border-bottom-color: var(--fill-color);\n",
              "      border-left-color: var(--fill-color);\n",
              "    }\n",
              "    20% {\n",
              "      border-color: transparent;\n",
              "      border-left-color: var(--fill-color);\n",
              "      border-top-color: var(--fill-color);\n",
              "    }\n",
              "    30% {\n",
              "      border-color: transparent;\n",
              "      border-left-color: var(--fill-color);\n",
              "      border-top-color: var(--fill-color);\n",
              "      border-right-color: var(--fill-color);\n",
              "    }\n",
              "    40% {\n",
              "      border-color: transparent;\n",
              "      border-right-color: var(--fill-color);\n",
              "      border-top-color: var(--fill-color);\n",
              "    }\n",
              "    60% {\n",
              "      border-color: transparent;\n",
              "      border-right-color: var(--fill-color);\n",
              "    }\n",
              "    80% {\n",
              "      border-color: transparent;\n",
              "      border-right-color: var(--fill-color);\n",
              "      border-bottom-color: var(--fill-color);\n",
              "    }\n",
              "    90% {\n",
              "      border-color: transparent;\n",
              "      border-bottom-color: var(--fill-color);\n",
              "    }\n",
              "  }\n",
              "</style>\n",
              "\n",
              "  <script>\n",
              "    async function quickchart(key) {\n",
              "      const quickchartButtonEl =\n",
              "        document.querySelector('#' + key + ' button');\n",
              "      quickchartButtonEl.disabled = true;  // To prevent multiple clicks.\n",
              "      quickchartButtonEl.classList.add('colab-df-spinner');\n",
              "      try {\n",
              "        const charts = await google.colab.kernel.invokeFunction(\n",
              "            'suggestCharts', [key], {});\n",
              "      } catch (error) {\n",
              "        console.error('Error during call to suggestCharts:', error);\n",
              "      }\n",
              "      quickchartButtonEl.classList.remove('colab-df-spinner');\n",
              "      quickchartButtonEl.classList.add('colab-df-quickchart-complete');\n",
              "    }\n",
              "    (() => {\n",
              "      let quickchartButtonEl =\n",
              "        document.querySelector('#df-f61a8f8c-c0a9-417d-a992-06ad408774e7 button');\n",
              "      quickchartButtonEl.style.display =\n",
              "        google.colab.kernel.accessAllowed ? 'block' : 'none';\n",
              "    })();\n",
              "  </script>\n",
              "</div>\n",
              "    </div>\n",
              "  </div>\n"
            ]
          },
          "metadata": {},
          "execution_count": 447
        }
      ]
    },
    {
      "cell_type": "markdown",
      "source": [
        "Дл удобства работы выведем все столбцы на печать"
      ],
      "metadata": {
        "id": "Yv7wYgZtpz_U"
      }
    },
    {
      "cell_type": "code",
      "source": [
        "df.keys()"
      ],
      "metadata": {
        "id": "qGPUWCHQp5VX"
      },
      "execution_count": null,
      "outputs": []
    },
    {
      "cell_type": "code",
      "source": [
        "df.info()"
      ],
      "metadata": {
        "id": "yz1h3D5TgyS1"
      },
      "execution_count": null,
      "outputs": []
    },
    {
      "cell_type": "markdown",
      "source": [
        "**4. Проведем разведочный анализ данных EDA. Воспользуемся библиотекой pandas_profiling**"
      ],
      "metadata": {
        "id": "jEOe9E--bBnN"
      }
    },
    {
      "cell_type": "code",
      "source": [
        "profile = ProfileReport(df)\n",
        "profile.to_notebook_iframe()"
      ],
      "metadata": {
        "id": "o2AqbS_PyKEI"
      },
      "execution_count": null,
      "outputs": []
    },
    {
      "cell_type": "markdown",
      "source": [
        "Подведем первые итоги:\n",
        "1. Квартиры расположены с 1 по 33 этаж,\n",
        "2. Дома в которых размещены эти квартиры от одно до 60-ти этажного.\n",
        "3. Количество комнат от 0 до 6.\n",
        "4. Жилая площадь от 8 до 89.1 кв.м.\n",
        "5. Площадь кухни от 8 до 48.3 кв.м.\n",
        "6. Общая площадь от 12 до 107 кв.м.\n",
        "7. Высота потолков от 2.5 до 4м.\n",
        "8. Балконы от 0 до 5шт.\n",
        "9. Аппартаменты 31шт.\n",
        "10. Студий 90шт.\n",
        "11. Открытой планировки  - 35шт.\n",
        "12. Расстояние до центра от 0.2 до 66км. Возможно данная подборка объявлений со всего района или области.\n",
        "13. Парки на расстоянии 3км.: от 0 до 3\n",
        "14. Пруды на расстоянии 3км.: от 0 до 3\n",
        "15. Стоимость квартиры от 1190 000 до\t13 200 000.\n",
        "16. Стоимость квадратного метра от\t17 391 до 387 096."
      ],
      "metadata": {
        "id": "2b2YmKGH5uwd"
      }
    },
    {
      "cell_type": "markdown",
      "source": [
        "5. Определяем важные признаки. Ищем взаимосвязей между признаками."
      ],
      "metadata": {
        "id": "1-3Suobkp7t3"
      }
    },
    {
      "cell_type": "markdown",
      "source": [
        "Количество предложений квартир по этажам"
      ],
      "metadata": {
        "id": "TkSZd8ins2dB"
      }
    },
    {
      "cell_type": "code",
      "source": [
        "df['floor'].value_counts()"
      ],
      "metadata": {
        "id": "5pmGW5masyo1"
      },
      "execution_count": null,
      "outputs": []
    },
    {
      "cell_type": "code",
      "source": [
        "df['floor'].value_counts(normalize=True).plot.pie()"
      ],
      "metadata": {
        "id": "9zDYvLissj_4"
      },
      "execution_count": null,
      "outputs": []
    },
    {
      "cell_type": "code",
      "source": [
        "px.histogram(df, x='floor')"
      ],
      "metadata": {
        "id": "pBE2GeQS8IY7"
      },
      "execution_count": null,
      "outputs": []
    },
    {
      "cell_type": "code",
      "source": [
        "print(round((df[df['floor']<=10]['last_price'].count()/len(df))*100, 1), '% квартир с 1 по 10 этаж')"
      ],
      "metadata": {
        "id": "CLMI7iB103--",
        "colab": {
          "base_uri": "https://localhost:8080/"
        },
        "outputId": "f56c9c5b-ce00-43d7-d951-f4753abe6319"
      },
      "execution_count": 454,
      "outputs": [
        {
          "output_type": "stream",
          "name": "stdout",
          "text": [
            "84.1 % квартир с 1 по 10 этаж\n"
          ]
        }
      ]
    },
    {
      "cell_type": "code",
      "source": [
        "px.scatter(df, x='last_price', y='floor')"
      ],
      "metadata": {
        "id": "9gtIWztNrUOI"
      },
      "execution_count": null,
      "outputs": []
    },
    {
      "cell_type": "markdown",
      "source": [
        "На графике видно что стоимость квартир на верхних этажах ниже, необходимо посмотреть данный график с учетом площади."
      ],
      "metadata": {
        "id": "gk84fUgSDOFV"
      }
    },
    {
      "cell_type": "code",
      "source": [
        "px.scatter(df, x='last_price', y='floor', color='total_area')"
      ],
      "metadata": {
        "id": "fb0PVjUl4Kpn"
      },
      "execution_count": null,
      "outputs": []
    },
    {
      "cell_type": "markdown",
      "source": [
        "Посмотрим как зависит стоимость квартиры от этажа"
      ],
      "metadata": {
        "id": "KyHHfWKGlNVt"
      }
    },
    {
      "cell_type": "code",
      "source": [
        "sb.lineplot(df, x='floor_level', y='last_price')"
      ],
      "metadata": {
        "id": "yZ5eyERZhnsZ"
      },
      "execution_count": null,
      "outputs": []
    },
    {
      "cell_type": "markdown",
      "source": [
        "Распределение предложений по количеству этажей в доме"
      ],
      "metadata": {
        "id": "FTVNrB0wtN2d"
      }
    },
    {
      "cell_type": "code",
      "source": [
        "df['floors_total'].value_counts()"
      ],
      "metadata": {
        "id": "JgO32cNBtTZM",
        "colab": {
          "base_uri": "https://localhost:8080/"
        },
        "outputId": "5870d555-1d89-474c-8a27-5b7766bb1453"
      },
      "execution_count": 458,
      "outputs": [
        {
          "output_type": "execute_result",
          "data": {
            "text/plain": [
              "5.0     3207\n",
              "9.0     3050\n",
              "12.0    1047\n",
              "16.0    1041\n",
              "10.0     793\n",
              "25.0     779\n",
              "4.0      643\n",
              "17.0     595\n",
              "6.0      468\n",
              "14.0     423\n",
              "24.0     342\n",
              "7.0      315\n",
              "3.0      288\n",
              "18.0     278\n",
              "23.0     261\n",
              "19.0     234\n",
              "15.0     219\n",
              "8.0      168\n",
              "22.0     153\n",
              "20.0     153\n",
              "13.0     151\n",
              "11.0     112\n",
              "26.0     101\n",
              "21.0     100\n",
              "27.0      83\n",
              "2.0       60\n",
              "28.0      15\n",
              "35.0      15\n",
              "1.0        5\n",
              "36.0       2\n",
              "34.0       1\n",
              "60.0       1\n",
              "29.0       1\n",
              "52.0       1\n",
              "37.0       1\n",
              "Name: floors_total, dtype: int64"
            ]
          },
          "metadata": {},
          "execution_count": 458
        }
      ]
    },
    {
      "cell_type": "code",
      "source": [
        "df['floors_total'].value_counts(normalize=True).plot.pie()"
      ],
      "metadata": {
        "id": "VXKNmBPctXTG"
      },
      "execution_count": null,
      "outputs": []
    },
    {
      "cell_type": "markdown",
      "source": [
        "40% - это 5 и 9 этажные дома"
      ],
      "metadata": {
        "id": "POkLuvxkt9nx"
      }
    },
    {
      "cell_type": "code",
      "source": [
        "px.histogram(df, x='floors_total', color='floor')"
      ],
      "metadata": {
        "id": "BFpzYLXa9Eu0"
      },
      "execution_count": null,
      "outputs": []
    },
    {
      "cell_type": "code",
      "source": [
        "sb.scatterplot(df, x='floors_total', y='floor')"
      ],
      "metadata": {
        "id": "ESEbErVJ9WLx"
      },
      "execution_count": null,
      "outputs": []
    },
    {
      "cell_type": "code",
      "source": [
        "px.scatter(df, x='last_price', y='floor', color='floors_total')\n"
      ],
      "metadata": {
        "id": "7eEWNGO1rje0"
      },
      "execution_count": null,
      "outputs": []
    },
    {
      "cell_type": "markdown",
      "source": [
        "На графике заметно что большинство квартиры в расположены до 15 этажа."
      ],
      "metadata": {
        "id": "cvKZG7Z7O4-l"
      }
    },
    {
      "cell_type": "code",
      "source": [
        "round(df[df['floors_total']<=15]['last_price'].value_counts().sum()/len(df)*100, 2) # Процент  домов до 10 этажа"
      ],
      "metadata": {
        "id": "PKNmtvHMx06g",
        "colab": {
          "base_uri": "https://localhost:8080/"
        },
        "outputId": "664f674e-81c2-4b38-8505-1c66c04077a0"
      },
      "execution_count": 463,
      "outputs": [
        {
          "output_type": "execute_result",
          "data": {
            "text/plain": [
              "72.48"
            ]
          },
          "metadata": {},
          "execution_count": 463
        }
      ]
    },
    {
      "cell_type": "code",
      "source": [
        "round(df.loc[(df['floors_total'] > 15) & (df['floors_total'] <= 30)]['last_price'].value_counts().sum()/len(df)*100, 2) # Процент  домов от 10 до 20 этажа"
      ],
      "metadata": {
        "id": "wXr2jkS9zAhm",
        "colab": {
          "base_uri": "https://localhost:8080/"
        },
        "outputId": "d04ba1e8-3128-4c02-8306-69c52b0c9e3d"
      },
      "execution_count": 464,
      "outputs": [
        {
          "output_type": "execute_result",
          "data": {
            "text/plain": [
              "27.38"
            ]
          },
          "metadata": {},
          "execution_count": 464
        }
      ]
    },
    {
      "cell_type": "code",
      "source": [
        "round(df.loc[(df['floors_total'] > 30) & (df['floors_total'] <= 60)]['last_price'].value_counts().sum()/len(df)*100, 2) # Процент  домов от 30 до 60 этажа"
      ],
      "metadata": {
        "id": "ZB7EzacbzuGt",
        "colab": {
          "base_uri": "https://localhost:8080/"
        },
        "outputId": "50a9faa3-894e-4774-f9b2-4980addd113e"
      },
      "execution_count": 465,
      "outputs": [
        {
          "output_type": "execute_result",
          "data": {
            "text/plain": [
              "0.14"
            ]
          },
          "metadata": {},
          "execution_count": 465
        }
      ]
    },
    {
      "cell_type": "markdown",
      "source": [
        "Посмотрим что у нас с количеством комнат"
      ],
      "metadata": {
        "id": "CDb5Ph3U4BYD"
      }
    },
    {
      "cell_type": "code",
      "source": [
        "df['rooms'].value_counts()"
      ],
      "metadata": {
        "id": "YtSse3P-uP-h"
      },
      "execution_count": null,
      "outputs": []
    },
    {
      "cell_type": "code",
      "source": [
        "df['rooms'].value_counts(normalize=True).plot.pie()"
      ],
      "metadata": {
        "id": "K3aVA8qhusil"
      },
      "execution_count": null,
      "outputs": []
    },
    {
      "cell_type": "markdown",
      "source": [
        "1-2-3 комнатные квартиры занимают 92% всех объявлений. 1 и 2-х комнатные по ~34%, 3-х комнатные - ~25%, на долю 4-х комнатных квартир приходиться ~6%."
      ],
      "metadata": {
        "id": "NTJW-NCNzDSJ"
      }
    },
    {
      "cell_type": "code",
      "source": [
        "px.box(df, x=\"rooms\")"
      ],
      "metadata": {
        "id": "uTzS9a7X9_Zg"
      },
      "execution_count": null,
      "outputs": []
    },
    {
      "cell_type": "code",
      "source": [
        "px.histogram(df, x='rooms')"
      ],
      "metadata": {
        "id": "zawRtO5HoLQe"
      },
      "execution_count": null,
      "outputs": []
    },
    {
      "cell_type": "code",
      "source": [
        "px.scatter(df, x='last_price', y='rooms')"
      ],
      "metadata": {
        "id": "Af9KUgCXrsN8"
      },
      "execution_count": null,
      "outputs": []
    },
    {
      "cell_type": "markdown",
      "source": [
        "Стоимость квартир растет при увеличении количества комнат, но необходимо учитывать что в данном графике не учтены факторы близости к центру и площади квартир"
      ],
      "metadata": {
        "id": "psoi3EM4nuVD"
      }
    },
    {
      "cell_type": "markdown",
      "source": [
        "Жилая площадь"
      ],
      "metadata": {
        "id": "pNXN3Xod0XbI"
      }
    },
    {
      "cell_type": "code",
      "source": [
        "df['living_area'].value_counts()"
      ],
      "metadata": {
        "id": "N40U-k1S0V9U",
        "colab": {
          "base_uri": "https://localhost:8080/"
        },
        "outputId": "09db825a-90f0-4282-978f-c09d5387bbcb"
      },
      "execution_count": 471,
      "outputs": [
        {
          "output_type": "execute_result",
          "data": {
            "text/plain": [
              "18.000000    622\n",
              "17.000000    418\n",
              "20.000000    382\n",
              "30.000000    368\n",
              "16.000000    329\n",
              "            ... \n",
              "17.430000      1\n",
              "16.040000      1\n",
              "42.910000      1\n",
              "27.871672      1\n",
              "12.600000      1\n",
              "Name: living_area, Length: 1342, dtype: int64"
            ]
          },
          "metadata": {},
          "execution_count": 471
        }
      ]
    },
    {
      "cell_type": "code",
      "source": [
        "df['living_area'].plot.density()"
      ],
      "metadata": {
        "id": "hobmwKKWFJq5"
      },
      "execution_count": null,
      "outputs": []
    },
    {
      "cell_type": "code",
      "source": [
        "px.histogram(df, x='living_area', color='rooms')"
      ],
      "metadata": {
        "id": "rXXm9Snw0o8l"
      },
      "execution_count": null,
      "outputs": []
    },
    {
      "cell_type": "markdown",
      "source": [
        "На графике видно явное распределение жилой площади к количеству комнат, основная часть данных распологается до 60 кв.м. График интерактивный, можно отключать количество комнат через легенду."
      ],
      "metadata": {
        "id": "ar46DHWMatMF"
      }
    },
    {
      "cell_type": "code",
      "source": [
        "px.scatter(df, x='last_price', y='living_area', color='rooms', trendline=\"ols\")"
      ],
      "metadata": {
        "id": "O1th3OHCr5va"
      },
      "execution_count": null,
      "outputs": []
    },
    {
      "cell_type": "markdown",
      "source": [
        "При увеличении жилой площади увеличивается стоимость квартиры.\n",
        "\n",
        "В DataFrame присутствуют квартиры с количеством комнат = 0, посмотрим на них."
      ],
      "metadata": {
        "id": "ZyZ-RccmsF4H"
      }
    },
    {
      "cell_type": "code",
      "source": [
        "df[df['rooms']==0]['studio'].value_counts()\n"
      ],
      "metadata": {
        "id": "p_vXp6eNK8eT",
        "colab": {
          "base_uri": "https://localhost:8080/"
        },
        "outputId": "28da15ed-9136-4bef-c4b8-62a600720d95"
      },
      "execution_count": 475,
      "outputs": [
        {
          "output_type": "execute_result",
          "data": {
            "text/plain": [
              "1    85\n",
              "0    30\n",
              "Name: studio, dtype: int64"
            ]
          },
          "metadata": {},
          "execution_count": 475
        }
      ]
    },
    {
      "cell_type": "code",
      "source": [
        "df['studio'].value_counts(normalize=True)*100"
      ],
      "metadata": {
        "id": "A_KTuL52M6OE",
        "colab": {
          "base_uri": "https://localhost:8080/"
        },
        "outputId": "879f84bd-3baa-4a9c-e484-1eeb9b69a7a3"
      },
      "execution_count": 476,
      "outputs": [
        {
          "output_type": "execute_result",
          "data": {
            "text/plain": [
              "0    99.40421\n",
              "1     0.59579\n",
              "Name: studio, dtype: float64"
            ]
          },
          "metadata": {},
          "execution_count": 476
        }
      ]
    },
    {
      "cell_type": "code",
      "source": [
        "df[df['rooms']==0]['open_plan'].value_counts()"
      ],
      "metadata": {
        "id": "kdQ0pC-XL9s3",
        "colab": {
          "base_uri": "https://localhost:8080/"
        },
        "outputId": "25014aeb-f263-4755-f247-15f87323792b"
      },
      "execution_count": 477,
      "outputs": [
        {
          "output_type": "execute_result",
          "data": {
            "text/plain": [
              "0    85\n",
              "1    30\n",
              "Name: open_plan, dtype: int64"
            ]
          },
          "metadata": {},
          "execution_count": 477
        }
      ]
    },
    {
      "cell_type": "code",
      "source": [
        "df['open_plan'].value_counts(normalize=True)*100"
      ],
      "metadata": {
        "id": "c9P_7S1SMf63",
        "colab": {
          "base_uri": "https://localhost:8080/"
        },
        "outputId": "ca40079f-5305-4189-ca91-14118beff503"
      },
      "execution_count": 478,
      "outputs": [
        {
          "output_type": "execute_result",
          "data": {
            "text/plain": [
              "0    99.774924\n",
              "1     0.225076\n",
              "Name: open_plan, dtype: float64"
            ]
          },
          "metadata": {},
          "execution_count": 478
        }
      ]
    },
    {
      "cell_type": "markdown",
      "source": [
        "это квартиры студии и открытой планировки. Всего таких квартир studio - 0,56% и open_plan - 0,22%"
      ],
      "metadata": {
        "id": "4fQEOmNJMT_f"
      }
    },
    {
      "cell_type": "markdown",
      "source": [
        "Посмотрим на кухни"
      ],
      "metadata": {
        "id": "sNpvHccqao_B"
      }
    },
    {
      "cell_type": "code",
      "source": [
        "df['kitchen_area'].value_counts()"
      ],
      "metadata": {
        "id": "kFZN7HskbqaU",
        "colab": {
          "base_uri": "https://localhost:8080/"
        },
        "outputId": "f13d09e5-8fb2-404e-d47d-6042c6657866"
      },
      "execution_count": 479,
      "outputs": [
        {
          "output_type": "execute_result",
          "data": {
            "text/plain": [
              "8.000000     6470\n",
              "10.000000     921\n",
              "9.000000      633\n",
              "11.000000     573\n",
              "12.000000     472\n",
              "             ... \n",
              "9.620000        1\n",
              "10.920000       1\n",
              "10.580000       1\n",
              "13.428063       1\n",
              "14.058324       1\n",
              "Name: kitchen_area, Length: 523, dtype: int64"
            ]
          },
          "metadata": {},
          "execution_count": 479
        }
      ]
    },
    {
      "cell_type": "code",
      "source": [
        "px.histogram(df, x='kitchen_area', color='rooms')"
      ],
      "metadata": {
        "id": "xpIgVzePbIqv"
      },
      "execution_count": null,
      "outputs": []
    },
    {
      "cell_type": "code",
      "source": [
        "px.scatter(df, x='last_price', y='kitchen_area', trendline=\"ols\")"
      ],
      "metadata": {
        "id": "x_uIrt6PsTsM"
      },
      "execution_count": null,
      "outputs": []
    },
    {
      "cell_type": "markdown",
      "source": [
        "с увеличением кухни стоимость квартиры увеличивается"
      ],
      "metadata": {
        "id": "c00tK22oPxXO"
      }
    },
    {
      "cell_type": "markdown",
      "source": [
        "Посмотрим на общую площадь квартир"
      ],
      "metadata": {
        "id": "0M-yx6vDbxml"
      }
    },
    {
      "cell_type": "code",
      "source": [
        "df['total_area'].value_counts()"
      ],
      "metadata": {
        "id": "ox0ii8DUb2TV",
        "colab": {
          "base_uri": "https://localhost:8080/"
        },
        "outputId": "53ee70a4-1e94-4935-ffb0-2fccc4bb93eb"
      },
      "execution_count": 482,
      "outputs": [
        {
          "output_type": "execute_result",
          "data": {
            "text/plain": [
              "45.00     331\n",
              "42.00     279\n",
              "31.00     261\n",
              "60.00     255\n",
              "44.00     240\n",
              "         ... \n",
              "59.06       1\n",
              "102.80      1\n",
              "90.37       1\n",
              "96.60       1\n",
              "66.86       1\n",
              "Name: total_area, Length: 1198, dtype: int64"
            ]
          },
          "metadata": {},
          "execution_count": 482
        }
      ]
    },
    {
      "cell_type": "code",
      "source": [
        "px.histogram(df, x='total_area', color='rooms')"
      ],
      "metadata": {
        "id": "DmsJuzkfbQKo"
      },
      "execution_count": null,
      "outputs": []
    },
    {
      "cell_type": "markdown",
      "source": [
        "Большинство квартир до 90 кв.м.\n"
      ],
      "metadata": {
        "id": "UrlVgiUUUPp2"
      }
    },
    {
      "cell_type": "code",
      "source": [
        "px.scatter(df, x='last_price', y='total_area', color='rooms', trendline=\"ols\")"
      ],
      "metadata": {
        "id": "y1AqiM-WscDg"
      },
      "execution_count": null,
      "outputs": []
    },
    {
      "cell_type": "markdown",
      "source": [
        "На данном графике видно что при увеличении площади квартиры увеличивается и стоимость"
      ],
      "metadata": {
        "id": "pkKKVIIKaN-P"
      }
    },
    {
      "cell_type": "markdown",
      "source": [
        "Высота потолков"
      ],
      "metadata": {
        "id": "Z19O34ANg5z2"
      }
    },
    {
      "cell_type": "code",
      "source": [
        "df['ceiling_height'].value_counts()"
      ],
      "metadata": {
        "id": "sVSoPd8Cf-T4",
        "colab": {
          "base_uri": "https://localhost:8080/"
        },
        "outputId": "bb00b3da-c471-4f82-ca07-ffaaf071bbb1"
      },
      "execution_count": 485,
      "outputs": [
        {
          "output_type": "execute_result",
          "data": {
            "text/plain": [
              "2.65    6060\n",
              "2.50    2481\n",
              "2.60    1227\n",
              "2.70    1026\n",
              "2.55     737\n",
              "        ... \n",
              "3.09       1\n",
              "3.37       1\n",
              "3.98       1\n",
              "3.57       1\n",
              "2.91       1\n",
              "Name: ceiling_height, Length: 116, dtype: int64"
            ]
          },
          "metadata": {},
          "execution_count": 485
        }
      ]
    },
    {
      "cell_type": "code",
      "source": [
        "df['ceiling_height'].describe()"
      ],
      "metadata": {
        "id": "J9U0OtGciC2j",
        "colab": {
          "base_uri": "https://localhost:8080/"
        },
        "outputId": "7a2ada92-cbdd-4e24-9321-bb7a6a5e6d9e"
      },
      "execution_count": 486,
      "outputs": [
        {
          "output_type": "execute_result",
          "data": {
            "text/plain": [
              "count    15106.000000\n",
              "mean         2.674991\n",
              "std          0.179428\n",
              "min          2.500000\n",
              "25%          2.600000\n",
              "50%          2.650000\n",
              "75%          2.700000\n",
              "max          4.000000\n",
              "Name: ceiling_height, dtype: float64"
            ]
          },
          "metadata": {},
          "execution_count": 486
        }
      ]
    },
    {
      "cell_type": "code",
      "source": [
        "px.histogram(df, x='ceiling_height')"
      ],
      "metadata": {
        "id": "PwUwjY8Dg_jS"
      },
      "execution_count": null,
      "outputs": []
    },
    {
      "cell_type": "markdown",
      "source": [
        "Наличие потолков выше 3.5 метров вызывает подозрение особенно max 100м, так же как и min 1м. Посмотрим на мин высоту квартир"
      ],
      "metadata": {
        "id": "4_Snj3-phpW0"
      }
    },
    {
      "cell_type": "code",
      "source": [
        "df['ceiling_height'].plot.density()"
      ],
      "metadata": {
        "id": "lwxG7OjFr3Eu"
      },
      "execution_count": null,
      "outputs": []
    },
    {
      "cell_type": "code",
      "source": [
        "px.scatter(df, x='last_price', y='ceiling_height', color='rooms', trendline=\"ols\")"
      ],
      "metadata": {
        "id": "LgaQthFvuvHG"
      },
      "execution_count": null,
      "outputs": []
    },
    {
      "cell_type": "markdown",
      "source": [
        "Стоимость квартир незначительно зависит от высота потолка"
      ],
      "metadata": {
        "id": "B30fhdhjy8PT"
      }
    },
    {
      "cell_type": "markdown",
      "source": [
        "Балконы"
      ],
      "metadata": {
        "id": "SLzsFkn5isvu"
      }
    },
    {
      "cell_type": "code",
      "source": [
        "df['balcony'].value_counts()"
      ],
      "metadata": {
        "id": "9hJPiwb8f9uO",
        "colab": {
          "base_uri": "https://localhost:8080/"
        },
        "outputId": "98f1f13d-ae29-4d89-c714-d80f6abb9608"
      },
      "execution_count": 490,
      "outputs": [
        {
          "output_type": "execute_result",
          "data": {
            "text/plain": [
              "0    9708\n",
              "1    2704\n",
              "2    2394\n",
              "5     176\n",
              "4      86\n",
              "3      38\n",
              "Name: balcony, dtype: int64"
            ]
          },
          "metadata": {},
          "execution_count": 490
        }
      ]
    },
    {
      "cell_type": "code",
      "source": [
        "px.histogram(df, x='balcony')"
      ],
      "metadata": {
        "id": "hDyj_ivRkCkd"
      },
      "execution_count": null,
      "outputs": []
    },
    {
      "cell_type": "code",
      "source": [
        "px.scatter(df, x='last_price', y='balcony', trendline=\"ols\")"
      ],
      "metadata": {
        "id": "Ocyt-G91u-Eo"
      },
      "execution_count": null,
      "outputs": []
    },
    {
      "cell_type": "markdown",
      "source": [
        "Наличие балконов незначительно влияет на стоимость квартир, квартиры с балконом (балконами) стоит дороже."
      ],
      "metadata": {
        "id": "JDs5TCuYs993"
      }
    },
    {
      "cell_type": "markdown",
      "source": [
        "Апартаменты"
      ],
      "metadata": {
        "id": "g576MhkskOu0"
      }
    },
    {
      "cell_type": "code",
      "source": [
        "df['is_apartment'].value_counts()"
      ],
      "metadata": {
        "id": "ABkuZoB6AS7l"
      },
      "execution_count": null,
      "outputs": []
    },
    {
      "cell_type": "code",
      "source": [
        "df['is_apartment'].value_counts(normalize=True)"
      ],
      "metadata": {
        "id": "1KFkLxrvkVvu"
      },
      "execution_count": null,
      "outputs": []
    },
    {
      "cell_type": "code",
      "source": [
        "df['is_apartment'].value_counts(normalize=True).plot.pie()"
      ],
      "metadata": {
        "id": "z7ZBVVB1mxtk"
      },
      "execution_count": null,
      "outputs": []
    },
    {
      "cell_type": "markdown",
      "source": [
        "Апартаменты в данном DataFrame занимают всего 0.2%"
      ],
      "metadata": {
        "id": "yl4Pw0Lxkoh_"
      }
    },
    {
      "cell_type": "code",
      "source": [
        "px.scatter(df, x='last_price', y='is_apartment', color='total_area')"
      ],
      "metadata": {
        "id": "D3Ng-XvyzaQ8"
      },
      "execution_count": null,
      "outputs": []
    },
    {
      "cell_type": "markdown",
      "source": [
        "Стоимость апартаментов ниже, чем обычной квартиры, и предложений тоже очень мало"
      ],
      "metadata": {
        "id": "mr2NWtbBzt6C"
      }
    },
    {
      "cell_type": "markdown",
      "source": [
        "Студии"
      ],
      "metadata": {
        "id": "nF6sAEgJk1dK"
      }
    },
    {
      "cell_type": "code",
      "source": [
        "df['studio'].value_counts()"
      ],
      "metadata": {
        "id": "7HS7YdCVk5nu"
      },
      "execution_count": null,
      "outputs": []
    },
    {
      "cell_type": "code",
      "source": [
        "df['studio'].value_counts(normalize=True)"
      ],
      "metadata": {
        "id": "0utDumpgldVy"
      },
      "execution_count": null,
      "outputs": []
    },
    {
      "cell_type": "code",
      "source": [
        "df['studio'].value_counts(normalize=True).plot.pie()"
      ],
      "metadata": {
        "id": "61K2IknAlTUO"
      },
      "execution_count": null,
      "outputs": []
    },
    {
      "cell_type": "markdown",
      "source": [
        "Студии в данном DataFrame занимают всего 0.6%"
      ],
      "metadata": {
        "id": "DNccOwBjm47N"
      }
    },
    {
      "cell_type": "code",
      "source": [
        "px.scatter(df, x='last_price', y='studio')"
      ],
      "metadata": {
        "id": "400G7-B90BNK"
      },
      "execution_count": null,
      "outputs": []
    },
    {
      "cell_type": "markdown",
      "source": [
        "Стоимость студии ниже, чем обычной квартиры, и предложений тоже очень мало"
      ],
      "metadata": {
        "id": "XejRn5oM0Hxg"
      }
    },
    {
      "cell_type": "markdown",
      "source": [
        "Открытая планировка"
      ],
      "metadata": {
        "id": "mY9Dl7YFlkHc"
      }
    },
    {
      "cell_type": "code",
      "source": [
        "df['open_plan'].value_counts()"
      ],
      "metadata": {
        "id": "MF6OcUsnlKZm"
      },
      "execution_count": null,
      "outputs": []
    },
    {
      "cell_type": "code",
      "source": [
        "df['open_plan'].value_counts(normalize=True)"
      ],
      "metadata": {
        "id": "9LnSclYJlpqC"
      },
      "execution_count": null,
      "outputs": []
    },
    {
      "cell_type": "code",
      "source": [
        "df['open_plan'].value_counts(normalize=True).plot.pie()"
      ],
      "metadata": {
        "id": "kGfNmQSNlzCo"
      },
      "execution_count": null,
      "outputs": []
    },
    {
      "cell_type": "markdown",
      "source": [
        "Квартиры с открытой планировкой в данном DataFrame занимают всего 0.2%"
      ],
      "metadata": {
        "id": "yE7cKFWtm_1K"
      }
    },
    {
      "cell_type": "code",
      "source": [
        "px.scatter(df, x='last_price', y='open_plan', color='total_area')"
      ],
      "metadata": {
        "id": "jiL5fPGk0PVc"
      },
      "execution_count": null,
      "outputs": []
    },
    {
      "cell_type": "markdown",
      "source": [
        "Стоимость квартиры с открытой планировкой ниже, чем обычной квартиры, и предложений тоже очень мало"
      ],
      "metadata": {
        "id": "75h05eBv0Vbt"
      }
    },
    {
      "cell_type": "markdown",
      "source": [
        "Расстояние до центра, км\n"
      ],
      "metadata": {
        "id": "11mNHnFtmCQw"
      }
    },
    {
      "cell_type": "code",
      "source": [
        "df['cityCenters_nearest, км.'].value_counts(0)"
      ],
      "metadata": {
        "id": "L6XlJlkimE3H"
      },
      "execution_count": null,
      "outputs": []
    },
    {
      "cell_type": "code",
      "source": [
        "px.histogram(df, x='cityCenters_nearest, км.', color='rooms')"
      ],
      "metadata": {
        "id": "rPhfhonQAAx9"
      },
      "execution_count": null,
      "outputs": []
    },
    {
      "cell_type": "markdown",
      "source": [
        "Всплески на графике явно указывают на населенные пункты"
      ],
      "metadata": {
        "id": "PnLZGhCtYA6M"
      }
    },
    {
      "cell_type": "code",
      "source": [
        "df.keys()"
      ],
      "metadata": {
        "id": "p13IQM-2AeUb"
      },
      "execution_count": null,
      "outputs": []
    },
    {
      "cell_type": "markdown",
      "source": [
        "посмотрим на соотношение стоимости и близости к центру"
      ],
      "metadata": {
        "id": "fBJlG54LnXsx"
      }
    },
    {
      "cell_type": "code",
      "source": [
        "px.scatter(df, x='last_price', y='cityCenters_nearest, км.', color='rooms', trendline=\"ols\")"
      ],
      "metadata": {
        "id": "B1U76pMDnRV3"
      },
      "execution_count": null,
      "outputs": []
    },
    {
      "cell_type": "code",
      "source": [
        "px.scatter(df, x='last_price', y='cityCenters_nearest, км.', color='total_area', trendline=\"ols\")"
      ],
      "metadata": {
        "id": "LNhMvKsBSzEv"
      },
      "execution_count": null,
      "outputs": []
    },
    {
      "cell_type": "markdown",
      "source": [
        "Чем дальше от центра тем стоимость равнозначной квартиры ниже"
      ],
      "metadata": {
        "id": "pyXI70mELPWL"
      }
    },
    {
      "cell_type": "markdown",
      "source": [
        "Наличие рядом парков"
      ],
      "metadata": {
        "id": "TV_q48OWmVdh"
      }
    },
    {
      "cell_type": "code",
      "source": [
        "df['parks_around3000'].value_counts()"
      ],
      "metadata": {
        "id": "YIkSWTmcosbp"
      },
      "execution_count": null,
      "outputs": []
    },
    {
      "cell_type": "code",
      "source": [
        "df['parks_around3000'].value_counts(normalize=True)"
      ],
      "metadata": {
        "id": "-7qbcjkBpPPC"
      },
      "execution_count": null,
      "outputs": []
    },
    {
      "cell_type": "code",
      "source": [
        "df['parks_around3000'].value_counts(normalize=True).plot.pie()"
      ],
      "metadata": {
        "id": "2P5SrHxPpXCx"
      },
      "execution_count": null,
      "outputs": []
    },
    {
      "cell_type": "code",
      "source": [
        "px.histogram(df, x='last_price', color='parks_around3000')"
      ],
      "metadata": {
        "id": "qgEV6SKvpywt"
      },
      "execution_count": null,
      "outputs": []
    },
    {
      "cell_type": "code",
      "source": [
        "px.scatter(df, x='last_price', y='parks_around3000', trendline=\"ols\")"
      ],
      "metadata": {
        "id": "emkev7dYvY1p"
      },
      "execution_count": null,
      "outputs": []
    },
    {
      "cell_type": "markdown",
      "source": [
        "На графике видно что наличие парков увеличивает стоимость квартир"
      ],
      "metadata": {
        "id": "iaSFjB2zY3ui"
      }
    },
    {
      "cell_type": "code",
      "source": [
        "px.scatter(df, x='cityCenters_nearest, км.', y='parks_around3000', trendline=\"ols\")"
      ],
      "metadata": {
        "id": "bpR7Bw1qLqK3"
      },
      "execution_count": null,
      "outputs": []
    },
    {
      "cell_type": "markdown",
      "source": [
        "Чем дальше от центра тем меньше парков"
      ],
      "metadata": {
        "id": "54BoUENyZaBg"
      }
    },
    {
      "cell_type": "markdown",
      "source": [
        "Наличие рядом прудов"
      ],
      "metadata": {
        "id": "Tt5i20Nxprap"
      }
    },
    {
      "cell_type": "code",
      "source": [
        "df['ponds_around3000'].value_counts()"
      ],
      "metadata": {
        "id": "Bwz8isbCo-Oe"
      },
      "execution_count": null,
      "outputs": []
    },
    {
      "cell_type": "code",
      "source": [
        "df['ponds_around3000'].value_counts(normalize=True)"
      ],
      "metadata": {
        "id": "HG2uY_-cpd4Y"
      },
      "execution_count": null,
      "outputs": []
    },
    {
      "cell_type": "code",
      "source": [
        "df['ponds_around3000'].value_counts(normalize=True).plot.pie()"
      ],
      "metadata": {
        "id": "PpvecHhmpiiY"
      },
      "execution_count": null,
      "outputs": []
    },
    {
      "cell_type": "code",
      "source": [
        "px.histogram(df, x='last_price', color='ponds_around3000')"
      ],
      "metadata": {
        "id": "N3okA_FbqdFq"
      },
      "execution_count": null,
      "outputs": []
    },
    {
      "cell_type": "code",
      "source": [
        "px.scatter(df, x='last_price', y='ponds_around3000', trendline=\"ols\")"
      ],
      "metadata": {
        "id": "d4fRmInXv1yF"
      },
      "execution_count": null,
      "outputs": []
    },
    {
      "cell_type": "markdown",
      "source": [
        "Наличие прудов увеличивает стоимость квартир"
      ],
      "metadata": {
        "id": "UZcqB4RDZ0Hg"
      }
    },
    {
      "cell_type": "code",
      "source": [
        "px.scatter(df, x='cityCenters_nearest, км.', y='ponds_around3000', trendline=\"ols\")"
      ],
      "metadata": {
        "id": "DQHuuo4AL_Fk"
      },
      "execution_count": null,
      "outputs": []
    },
    {
      "cell_type": "markdown",
      "source": [
        "Чем дальше от центра тем меньше количество прудов"
      ],
      "metadata": {
        "id": "Obq8E9hPMGz_"
      }
    },
    {
      "cell_type": "markdown",
      "source": [
        "Стоимость квартир"
      ],
      "metadata": {
        "id": "A6tWzHpFQEeL"
      }
    },
    {
      "cell_type": "code",
      "source": [
        "df['last_price'].describe()"
      ],
      "metadata": {
        "id": "IYMCDplIm2ae"
      },
      "execution_count": null,
      "outputs": []
    },
    {
      "cell_type": "code",
      "source": [
        "px.histogram(df, x='last_price')"
      ],
      "metadata": {
        "id": "dsfj4cHvP2gE"
      },
      "execution_count": null,
      "outputs": []
    },
    {
      "cell_type": "markdown",
      "source": [
        "Основная часть квартир находится в ценовом диапазоне до 12млн."
      ],
      "metadata": {
        "id": "27lg4C56m0SC"
      }
    },
    {
      "cell_type": "code",
      "source": [
        "px.box(df, x='last_price')"
      ],
      "metadata": {
        "id": "IR_ReR26QDc3"
      },
      "execution_count": null,
      "outputs": []
    },
    {
      "cell_type": "code",
      "source": [
        "df['last_price'].plot.density()"
      ],
      "metadata": {
        "id": "hOdmCRfxMrx6"
      },
      "execution_count": null,
      "outputs": []
    },
    {
      "cell_type": "code",
      "source": [
        "px.histogram(df, x='last_price', color='rooms')"
      ],
      "metadata": {
        "id": "uXGBkeWAMo3S"
      },
      "execution_count": null,
      "outputs": []
    },
    {
      "cell_type": "code",
      "source": [
        "px.histogram(df, x='last_price', color='floor')"
      ],
      "metadata": {
        "id": "tujkxa5zYWWj"
      },
      "execution_count": null,
      "outputs": []
    },
    {
      "cell_type": "markdown",
      "source": [
        "Стоимость кв.м."
      ],
      "metadata": {
        "id": "sS0_tKgjNDVg"
      }
    },
    {
      "cell_type": "code",
      "source": [
        "df['стоимость кв.м.'].describe()"
      ],
      "metadata": {
        "id": "IfcPSvZpPmFR"
      },
      "execution_count": null,
      "outputs": []
    },
    {
      "cell_type": "code",
      "source": [
        "df['стоимость кв.м.'].plot.density()"
      ],
      "metadata": {
        "id": "65QT-vcENCeW"
      },
      "execution_count": null,
      "outputs": []
    },
    {
      "cell_type": "code",
      "source": [
        "df.keys()"
      ],
      "metadata": {
        "id": "lxwnvKLAOcRa"
      },
      "execution_count": null,
      "outputs": []
    },
    {
      "cell_type": "code",
      "source": [
        "px.scatter(df, x='стоимость кв.м.', y='floor', color='rooms')"
      ],
      "metadata": {
        "id": "Geyp38kCshnW"
      },
      "execution_count": null,
      "outputs": []
    },
    {
      "cell_type": "code",
      "source": [
        "px.scatter(df, x='стоимость кв.м.', y='floors_total', color='rooms')"
      ],
      "metadata": {
        "id": "Jn7iiqN7Nbqi"
      },
      "execution_count": null,
      "outputs": []
    },
    {
      "cell_type": "code",
      "source": [
        "px.scatter(df, x='стоимость кв.м.', y='floors_total', color='total_area')"
      ],
      "metadata": {
        "id": "EY9hsVb3ZdHU"
      },
      "execution_count": null,
      "outputs": []
    },
    {
      "cell_type": "code",
      "source": [
        "px.scatter(df, x='стоимость кв.м.', y='living_area', color='rooms')"
      ],
      "metadata": {
        "id": "HDubQ-aEswAV"
      },
      "execution_count": null,
      "outputs": []
    },
    {
      "cell_type": "markdown",
      "source": [
        "С увеличением жилой площади увеличивается количество комнат"
      ],
      "metadata": {
        "id": "rwojrVqss-pZ"
      }
    },
    {
      "cell_type": "code",
      "source": [
        "px.scatter(df, x='стоимость кв.м.', y='total_area', color='rooms')"
      ],
      "metadata": {
        "id": "79wjBEckPEUJ"
      },
      "execution_count": null,
      "outputs": []
    },
    {
      "cell_type": "code",
      "source": [
        "px.scatter(df, x='стоимость кв.м.', y='ceiling_height', color='rooms')"
      ],
      "metadata": {
        "id": "77J-XT4ptTgA"
      },
      "execution_count": null,
      "outputs": []
    },
    {
      "cell_type": "code",
      "source": [
        "px.scatter(df, x='стоимость кв.м.', y='cityCenters_nearest, км.', color='rooms')"
      ],
      "metadata": {
        "id": "m2rdEu60tiL4"
      },
      "execution_count": null,
      "outputs": []
    },
    {
      "cell_type": "code",
      "source": [
        "px.scatter(df, x='last_price', y='total_area', color='floor', trendline=\"ols\")"
      ],
      "metadata": {
        "id": "-me8Xj33-A3B"
      },
      "execution_count": null,
      "outputs": []
    },
    {
      "cell_type": "code",
      "source": [
        "px.scatter(df, x='cityCenters_nearest, км.', y='total_area', color='rooms', trendline=\"ols\")"
      ],
      "metadata": {
        "id": "66pZyfBk6V0J"
      },
      "execution_count": null,
      "outputs": []
    },
    {
      "cell_type": "markdown",
      "source": [
        "При приближении к центру увеличивается общая площадь квартир, соответственно увеличивается количество комнат в квартирах, и растет стоимость кв.м."
      ],
      "metadata": {
        "id": "36t2JTgrt3b3"
      }
    },
    {
      "cell_type": "code",
      "source": [
        "px.scatter(df, y='стоимость кв.м.', x='last_price', trendline=\"ols\")"
      ],
      "metadata": {
        "id": "CU7Zxj8jc8Z-"
      },
      "execution_count": null,
      "outputs": []
    },
    {
      "cell_type": "code",
      "source": [
        "px.scatter(df, x='стоимость кв.м.', y='parks_around3000', trendline=\"ols\")"
      ],
      "metadata": {
        "id": "MMnhjVjluUyq"
      },
      "execution_count": null,
      "outputs": []
    },
    {
      "cell_type": "code",
      "source": [
        "px.scatter(df, x='стоимость кв.м.', y='ponds_around3000', trendline=\"ols\")"
      ],
      "metadata": {
        "id": "BtNnMfTrvC1I"
      },
      "execution_count": null,
      "outputs": []
    },
    {
      "cell_type": "markdown",
      "source": [
        "Наличие рядом парка или пруда незначительно увеличивает стоимость стоимость кв.м."
      ],
      "metadata": {
        "id": "pdj_jnkhuvLV"
      }
    },
    {
      "cell_type": "markdown",
      "source": [
        "Вывод:\n",
        "1. Цена зависит от площади квартиры (жилой, общей, кухни)и удаленности от центра.\n",
        "2. Стоимость предложенных квартир расположеных в \"середине\" (не на крайних этажах) выше.\n",
        "3. Незначительное влияние на стоимость квартир оказывает наличие балконов, парков и прудов."
      ],
      "metadata": {
        "id": "DzpHSpup0rwE"
      }
    },
    {
      "cell_type": "markdown",
      "source": [
        "6. Выполняем уменьшение размерности массива данных.\n",
        "\n",
        "Уменьшим размер DataFrame"
      ],
      "metadata": {
        "id": "NgDJGFgNmtMk"
      }
    },
    {
      "cell_type": "code",
      "source": [
        "df.info()"
      ],
      "metadata": {
        "id": "w_0ZnEEENyRB"
      },
      "execution_count": null,
      "outputs": []
    },
    {
      "cell_type": "code",
      "source": [
        "df['floor']=df['floor'].astype('int8')\n",
        "df['floors_total']=df['floors_total'].astype('int8')\n",
        "df['rooms']=df['rooms'].astype('int8')\n",
        "df['living_area']=df['living_area'].astype('float16')\n",
        "df['kitchen_area']=df['kitchen_area'].astype('float16')\n",
        "df['total_area']=df['total_area'].astype('float16')\n",
        "df['ceiling_height']=df['ceiling_height'].astype('float16')\n",
        "df['balcony']=df['balcony'].astype('int8')\n",
        "df['is_apartment']=df['is_apartment'].astype('int8')\n",
        "df['studio']=df['studio'].astype('int8')\n",
        "df['open_plan']=df['open_plan'].astype('int8')\n",
        "df['balcony']=df['balcony'].astype('int8')\n",
        "df['cityCenters_nearest, км.']=df['cityCenters_nearest, км.'].astype('float16')\n",
        "df['balcony']=df['balcony'].astype('int8')\n",
        "df['parks_around3000']=df['parks_around3000'].astype('int8')\n",
        "df['ponds_around3000']=df['ponds_around3000'].astype('int8')\n",
        "df['last_price']=df['last_price'].astype('int32')\n"
      ],
      "metadata": {
        "id": "V_OTH5NdhEf8"
      },
      "execution_count": 544,
      "outputs": []
    },
    {
      "cell_type": "code",
      "source": [
        "df.info()"
      ],
      "metadata": {
        "id": "AwiJcjUWjVdf"
      },
      "execution_count": null,
      "outputs": []
    },
    {
      "cell_type": "markdown",
      "source": [
        "**ВЫВОД: Задание по уменьшению DataFrame выполнено**"
      ],
      "metadata": {
        "id": "Q04MT51Sml2z"
      }
    },
    {
      "cell_type": "markdown",
      "source": [
        "7. Составим гипотезу о данных и выполнена проверка соответствующей гипотезы."
      ],
      "metadata": {
        "id": "G3C3zECrVPPB"
      }
    },
    {
      "cell_type": "markdown",
      "source": [
        "выдвенем нулевую гипотезу, что стоимость квадратного метра квартиры не зависит наличия балкона"
      ],
      "metadata": {
        "id": "7c3YdvZRJjbX"
      }
    },
    {
      "cell_type": "code",
      "source": [
        "A = df['balcony']\n",
        "B = df['стоимость кв.м.']\n",
        "t_stat, p_value = st.ttest_ind(A,B)\n",
        "print(\"Т-статистика:\", t_stat)\n",
        "print(\"р-значения:\", p_value)\n",
        "if p_value > 0.05:\n",
        "  print('мы не отвергаем нулевую гипотезу что стоимость квадратного метра квартиры не зависит наличия балкона')\n",
        "else:\n",
        "  print('мы отвергаем нулевую гипотезу что стоимость квадратного метра квартиры не зависит наличия балкона')\n"
      ],
      "metadata": {
        "id": "27GvTY9JJT4t",
        "colab": {
          "base_uri": "https://localhost:8080/"
        },
        "outputId": "851dc773-0272-442c-cfd8-ef1839d62e64"
      },
      "execution_count": 546,
      "outputs": [
        {
          "output_type": "stream",
          "name": "stdout",
          "text": [
            "Т-статистика: -526.522580094983\n",
            "р-значения: 0.0\n",
            "мы отвергаем нулевую гипотезу что стоимость квадратного метра квартиры не зависит наличия балкона\n"
          ]
        }
      ]
    },
    {
      "cell_type": "code",
      "source": [
        "df.describe()"
      ],
      "metadata": {
        "id": "Idyb4PUIS5mH"
      },
      "execution_count": null,
      "outputs": []
    },
    {
      "cell_type": "code",
      "source": [
        "df['living_area'].describe()"
      ],
      "metadata": {
        "id": "VKWwOVrpTWMp"
      },
      "execution_count": null,
      "outputs": []
    },
    {
      "cell_type": "code",
      "source": [
        "df['last_price']=df['last_price']/1000000"
      ],
      "metadata": {
        "id": "no3cfiLsvd4o"
      },
      "execution_count": 549,
      "outputs": []
    },
    {
      "cell_type": "code",
      "source": [
        "df['last_price'] = df['last_price'].round(2)"
      ],
      "metadata": {
        "id": "llYp3922vj71"
      },
      "execution_count": 550,
      "outputs": []
    },
    {
      "cell_type": "code",
      "source": [
        "df['ceiling_height'] = df['ceiling_height'].round(1)"
      ],
      "metadata": {
        "id": "DkFZAnjJylcR"
      },
      "execution_count": 551,
      "outputs": []
    },
    {
      "cell_type": "code",
      "source": [
        "sb.lineplot(df, y='last_price', x='floor')"
      ],
      "metadata": {
        "id": "EllkpS3XWIMi"
      },
      "execution_count": null,
      "outputs": []
    },
    {
      "cell_type": "code",
      "source": [
        "sb.lineplot(df, y='last_price', x='floors_total')"
      ],
      "metadata": {
        "id": "tZH1NbPCW42D"
      },
      "execution_count": null,
      "outputs": []
    },
    {
      "cell_type": "code",
      "source": [
        "sb.lineplot(df, y='last_price', x='rooms')"
      ],
      "metadata": {
        "id": "GnJyC9S8Xg4q"
      },
      "execution_count": null,
      "outputs": []
    },
    {
      "cell_type": "markdown",
      "source": [
        "создание вспомогательных столбцов"
      ],
      "metadata": {
        "id": "43wfnYvybHMR"
      }
    },
    {
      "cell_type": "code",
      "source": [
        "df['total_area_d'] = Series()\n",
        "df.loc[df['total_area'] <= 10, 'total_area_d'] = 10\n",
        "df.loc[df['total_area'] > 100, 'total_area_d'] = 110\n",
        "df.loc[(df['total_area'] > 10) & (df['total_area'] <= 20), 'total_area_d'] = 20\n",
        "df.loc[(df['total_area'] > 20) & (df['total_area'] <= 30), 'total_area_d'] = 30\n",
        "df.loc[(df['total_area'] > 30) & (df['total_area'] <= 40), 'total_area_d'] = 40\n",
        "df.loc[(df['total_area'] > 40) & (df['total_area'] <= 50), 'total_area_d'] = 50\n",
        "df.loc[(df['total_area'] > 50) & (df['total_area'] <= 60), 'total_area_d'] = 60\n",
        "df.loc[(df['total_area'] > 60) & (df['total_area'] <= 70), 'total_area_d'] = 70\n",
        "df.loc[(df['total_area'] > 70) & (df['total_area'] <= 80), 'total_area_d'] = 80\n",
        "df.loc[(df['total_area'] > 80) & (df['total_area'] <= 90), 'total_area_d'] = 90\n",
        "df.loc[(df['total_area'] > 90) & (df['total_area'] <= 100), 'total_area_d'] = 100\n",
        "df['total_area_d'] =df['total_area_d'].astype('int16')"
      ],
      "metadata": {
        "id": "f40dIfDJ2yaa"
      },
      "execution_count": null,
      "outputs": []
    },
    {
      "cell_type": "code",
      "source": [
        "df['cityCenters_z'] = Series()\n",
        "df.loc[df['cityCenters_nearest, км.'] <= 5, 'cityCenters_z'] = 0\n",
        "df.loc[(df['cityCenters_nearest, км.'] > 5) & (df['cityCenters_nearest, км.'] <= 10), 'cityCenters_z'] = 1\n",
        "df.loc[(df['cityCenters_nearest, км.'] > 10) & (df['cityCenters_nearest, км.'] <= 15), 'cityCenters_z'] = 2\n",
        "df.loc[(df['cityCenters_nearest, км.'] > 15) & (df['cityCenters_nearest, км.'] <= 20), 'cityCenters_z'] = 3\n",
        "df.loc[(df['cityCenters_nearest, км.'] > 20) & (df['cityCenters_nearest, км.'] <= 25), 'cityCenters_z'] = 4\n",
        "df.loc[(df['cityCenters_nearest, км.'] > 25) & (df['cityCenters_nearest, км.'] <= 30), 'cityCenters_z'] = 5\n",
        "df.loc[(df['cityCenters_nearest, км.'] > 30) & (df['cityCenters_nearest, км.'] <= 35), 'cityCenters_z'] = 6\n",
        "df.loc[(df['cityCenters_nearest, км.'] > 35) & (df['cityCenters_nearest, км.'] <= 40), 'cityCenters_z'] = 7\n",
        "df.loc[(df['cityCenters_nearest, км.'] > 40) & (df['cityCenters_nearest, км.'] <= 45), 'cityCenters_z'] = 8\n",
        "df.loc[(df['cityCenters_nearest, км.'] > 45) & (df['cityCenters_nearest, км.'] <= 50), 'cityCenters_z'] = 9\n",
        "df.loc[(df['cityCenters_nearest, км.'] > 50) & (df['cityCenters_nearest, км.'] <= 55), 'cityCenters_z'] = 10\n",
        "df.loc[(df['cityCenters_nearest, км.'] > 55) & (df['cityCenters_nearest, км.'] <= 60), 'cityCenters_z'] = 11\n",
        "df.loc[df['cityCenters_nearest, км.'] > 60, 'cityCenters_z'] = 12\n",
        "df['cityCenters_z'] =df['cityCenters_z'].astype('int16')"
      ],
      "metadata": {
        "id": "NL2xikX7_Zi3"
      },
      "execution_count": null,
      "outputs": []
    },
    {
      "cell_type": "code",
      "source": [
        "sb.lineplot(df, y='last_price', x='total_area_d')"
      ],
      "metadata": {
        "id": "Yizj9Qo0o1yW"
      },
      "execution_count": null,
      "outputs": []
    },
    {
      "cell_type": "code",
      "source": [
        "sb.lineplot(df, y='last_price', x='balcony')"
      ],
      "metadata": {
        "id": "4TwUM_MSyUTO"
      },
      "execution_count": null,
      "outputs": []
    },
    {
      "cell_type": "code",
      "source": [
        "sb.lineplot(df, y='last_price', x='parks_around3000')"
      ],
      "metadata": {
        "id": "eqGFmSiyYPLC"
      },
      "execution_count": null,
      "outputs": []
    },
    {
      "cell_type": "code",
      "source": [
        "sb.lineplot(df, y='last_price', x='ponds_around3000')"
      ],
      "metadata": {
        "id": "0zD8xjN8n1r-"
      },
      "execution_count": null,
      "outputs": []
    },
    {
      "cell_type": "code",
      "source": [
        "sb.lineplot(df, y='last_price', x='cityCenters_z')"
      ],
      "metadata": {
        "id": "TSJQtSosAefC"
      },
      "execution_count": null,
      "outputs": []
    },
    {
      "cell_type": "markdown",
      "source": [
        "**Создание модели для прогнозирования стоимости квартиры**"
      ],
      "metadata": {
        "id": "Ex88hjpSDnzH"
      }
    },
    {
      "cell_type": "markdown",
      "source": [
        "Введите пожелания по будующей квартире и мы посчитаем слолько она будет стоить (примерно)"
      ],
      "metadata": {
        "id": "N1Gl1b46D0w2"
      }
    },
    {
      "cell_type": "code",
      "source": [
        "rooms_k=int(input (\"Введите количество комнат (от 0 до 6): \"))\n",
        "total_area_k=int(input (\"Введите общую площадь: \"))\n",
        "balcony_k=int(input (\"Введите количество балконов(от 0 до 5): \"))\n",
        "parks_around3000_k=int(input (\"Введите количество парков (от 0 до 3): \"))\n",
        "ponds_around3000_k=int(input (\"Введите количество прудов (от 0 до 3): \"))\n",
        "cityCenters_k=int(input (\"Введите удаленность от центра: \"))\n",
        "\n",
        "# Определение коэффициентов\n",
        "def rooms_kf(x, df_i):\n",
        "    i=df[df['rooms']==x]['last_price'].mean()/df[df['rooms']==0]['last_price'].mean()\n",
        "    return i\n",
        "\n",
        "k_r=round(rooms_kf(rooms_k, df), 2)\n",
        "#print('k_r=',k_r)\n",
        "\n",
        "def area_kf(x, df_i):\n",
        "    if x<=20: k=20\n",
        "    elif (x>20 and x<=30): k=30\n",
        "    elif (x>30 and x<=40): k=40\n",
        "    elif (x>40 and x<=50): k=50\n",
        "    elif (x>50 and x<=60): k=60\n",
        "    elif (x>60 and x<=70): k=70\n",
        "    elif (x>70 and x<=80): k=80\n",
        "    elif (x>80 and x<=90): k=90\n",
        "    elif (x>90 and x<=100): k=100\n",
        "    else: k=4.5\n",
        "\n",
        "    i=df[df['total_area_d']==k]['last_price'].mean()/df[df['total_area_d']==20]['last_price'].mean()\n",
        "    return i\n",
        "\n",
        "k_a=round(area_kf(total_area_k, df), 2)\n",
        "#print('k_a=',k_a)\n",
        "\n",
        "def balcony_kf(x, df_i):\n",
        "    i=df[df['balcony']==x]['last_price'].mean()/df[df['balcony']==0]['last_price'].mean()\n",
        "    return i\n",
        "\n",
        "k_b=round(balcony_kf(balcony_k, df), 2)\n",
        "#print('k_b=',k_b)\n",
        "\n",
        "def park_kf(x, df_i):\n",
        "    i=df[df['parks_around3000']==x]['last_price'].mean()/df[df['parks_around3000']==0]['last_price'].mean()\n",
        "    return i\n",
        "\n",
        "k_pr=round(park_kf(parks_around3000_k, df), 2)\n",
        "#print('k_pr=', k_pr)\n",
        "\n",
        "def ponds_kf(x, df_i):\n",
        "    i=df[df['ponds_around3000']==x]['last_price'].mean()/df[df['ponds_around3000']==0]['last_price'].mean()\n",
        "    return i\n",
        "\n",
        "k_pd=round(ponds_kf(ponds_around3000_k, df), 2)\n",
        "#print('k_pd=',k_pd)\n",
        "\n",
        "def centr_kf(x, df_i):\n",
        "    if x<=5: k=0\n",
        "    elif (x>5 and x<=10): k=1\n",
        "    elif (x>10 and x<=15): k=2\n",
        "    elif (x>15 and x<=20): k=3\n",
        "    elif (x>20 and x<=25): k=4\n",
        "    elif (x>25 and x<=30): k=5\n",
        "    elif (x>30 and x<=35): k=6\n",
        "    elif (x>35 and x<=40): k=7\n",
        "    elif (x>40 and x<=45): k=8\n",
        "    elif (x>45 and x<=50): k=9\n",
        "    elif (x>50 and x<=55): k=10\n",
        "    elif (x>55 and x<=60): k=11\n",
        "    else: k=12\n",
        "    i=df[df['cityCenters_z']==k]['last_price'].mean()/df[df['cityCenters_z']==12]['last_price'].mean()\n",
        "    return i\n",
        "\n",
        "k_d=round(centr_kf(cityCenters_k, df), 2)\n",
        "#print('k_d=',k_d)\n",
        "\n",
        "st_kv=1.19*k_r*k_a*k_b*k_pr*k_pd*k_d\n",
        "print('Примерная стоимость квартиры будет ', st_kv, 'млн.')"
      ],
      "metadata": {
        "colab": {
          "base_uri": "https://localhost:8080/"
        },
        "id": "0V-cXXsxNSwe",
        "outputId": "9ef91bc5-b1c2-40d9-f4f1-3bfa99aa4cd3"
      },
      "execution_count": 571,
      "outputs": [
        {
          "output_type": "stream",
          "name": "stdout",
          "text": [
            "Введите количество комнат (от 0 до 6): 4\n",
            "Введите общую площадь: 100\n",
            "Введите количество балконов(от 0 до 5): 2\n",
            "Введите количество парков (от 0 до 3): 2\n",
            "Введите количество прудов (от 0 до 3): 1\n",
            "Введите удаленность от центра: 6\n",
            "Примерная стоимость квартиры будет  22.572383730624004 млн.\n"
          ]
        }
      ]
    }
  ]
}