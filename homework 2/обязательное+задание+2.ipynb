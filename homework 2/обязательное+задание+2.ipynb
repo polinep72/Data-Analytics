{
  "nbformat": 4,
  "nbformat_minor": 0,
  "metadata": {
    "colab": {
      "provenance": []
    },
    "kernelspec": {
      "name": "python3",
      "display_name": "Python 3"
    },
    "language_info": {
      "name": "python"
    }
  },
  "cells": [
    {
      "cell_type": "markdown",
      "source": [
        "1) написать функцию которая примет список чисел, а вернёт список из двух значений - максимального и минимального"
      ],
      "metadata": {
        "id": "e5G8eoD1cJtS"
      }
    },
    {
      "cell_type": "code",
      "execution_count": 34,
      "metadata": {
        "colab": {
          "base_uri": "https://localhost:8080/"
        },
        "id": "y1qg9AgBcCYD",
        "outputId": "6cc9526e-a115-42b5-fb45-eb792454a2a6"
      },
      "outputs": [
        {
          "output_type": "stream",
          "name": "stdout",
          "text": [
            "Минимальное значение: 3 Максимальное значение: 99\n"
          ]
        }
      ],
      "source": [
        "def min_max(listDate):\n",
        "\n",
        "    min_num = listDate[0]\n",
        "    max_num = listDate[0]\n",
        "    for i in listDate:\n",
        "      if i > max_num: max_num = i\n",
        "      elif i < min_num: min_num = i\n",
        "\n",
        "    list_min_max=[min_num, max_num]\n",
        "    return list_min_max\n",
        "\n",
        "list=[5, 25, 99, 3, 55, 48, 56, 77, 23, 34, 82, 65, 44, 37]\n",
        "print(\"Минимальное значение:\", min_max(list)[0], \"Максимальное значение:\", min_max(list)[1])\n"
      ]
    },
    {
      "cell_type": "markdown",
      "source": [
        "2)написать функцию, которая примет список и число, функция должна вернуть список всех чисел, которые больше переданного"
      ],
      "metadata": {
        "id": "cqvOlFc-cOFI"
      }
    },
    {
      "cell_type": "code",
      "source": [
        "# Список берем из предыдущего задания\n",
        "def spisok(listDate, value_num):\n",
        "\n",
        "    listDateCorrect = []\n",
        "    for i in listDate:\n",
        "      if i > value_num:\n",
        "        listDateCorrect.append(i)\n",
        "    return listDateCorrect\n",
        "\n",
        "value_num = int(input(\"Введите число, для определения чисел больше Вашего в DF: \"))\n",
        "print (\"Список всех чисел, которые больше\", value_num, \" - \", spisok(list,value_num) )"
      ],
      "metadata": {
        "colab": {
          "base_uri": "https://localhost:8080/"
        },
        "id": "Q8n5vQlYcQYP",
        "outputId": "5ce2b679-2b09-4a32-dc95-af64e017ad65"
      },
      "execution_count": 33,
      "outputs": [
        {
          "output_type": "stream",
          "name": "stdout",
          "text": [
            "Введите число, для определения чисел больше Вашего в DF: 30\n",
            "Список всех чисел, которые больше 30  -  [99, 55, 48, 56, 77, 34, 82, 65, 44, 37]\n"
          ]
        }
      ]
    }
  ]
}